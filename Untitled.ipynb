{
 "cells": [
  {
   "cell_type": "code",
   "execution_count": 3,
   "id": "2277498d-09ca-4441-9289-d553586b0436",
   "metadata": {},
   "outputs": [],
   "source": [
    "import itertools\n",
    "import numpy as np"
   ]
  },
  {
   "cell_type": "code",
   "execution_count": 5,
   "id": "2eba8f03-9c90-49a2-9ef2-058603f3c1e5",
   "metadata": {},
   "outputs": [],
   "source": [
    "data = np.zeros((4,5))"
   ]
  },
  {
   "cell_type": "code",
   "execution_count": 9,
   "id": "df64383e-b492-43b6-adfc-ce7852910061",
   "metadata": {},
   "outputs": [
    {
     "data": {
      "text/plain": [
       "array([[0, 0],\n",
       "       [0, 1],\n",
       "       [0, 2],\n",
       "       [0, 3],\n",
       "       [0, 4],\n",
       "       [1, 2],\n",
       "       [1, 3],\n",
       "       [1, 4],\n",
       "       [2, 3],\n",
       "       [2, 4],\n",
       "       [3, 4]])"
      ]
     },
     "execution_count": 9,
     "metadata": {},
     "output_type": "execute_result"
    }
   ],
   "source": [
    "list_comb = list(itertools.combinations(range(data.shape[1]),2))\n",
    "list_comb.append((0,0))\n",
    "\n",
    "combinations = np.array(sorted(list_comb))\n",
    "combinations"
   ]
  },
  {
   "cell_type": "code",
   "execution_count": 18,
   "id": "f9fc0a43-835d-4f16-a2e4-daea9999b122",
   "metadata": {},
   "outputs": [],
   "source": [
    "arr = np.array([[0,0.9,0.5],[0.9,0,0.7],[0.5,0.7,0]])"
   ]
  },
  {
   "cell_type": "code",
   "execution_count": 19,
   "id": "985acf3e-a6c3-4415-8008-1d8010ff2aa1",
   "metadata": {},
   "outputs": [
    {
     "data": {
      "text/plain": [
       "array([[0. , 0.9, 0.5],\n",
       "       [0.9, 0. , 0.7],\n",
       "       [0.5, 0.7, 0. ]])"
      ]
     },
     "execution_count": 19,
     "metadata": {},
     "output_type": "execute_result"
    }
   ],
   "source": [
    "arr"
   ]
  },
  {
   "cell_type": "code",
   "execution_count": 52,
   "id": "b397c87b-a4a7-4ae4-bbc1-18d044de74d9",
   "metadata": {},
   "outputs": [
    {
     "data": {
      "text/plain": [
       "{(0, 1), (1, 2)}"
      ]
     },
     "execution_count": 52,
     "metadata": {},
     "output_type": "execute_result"
    }
   ],
   "source": [
    "\n",
    "set(map(lambda x: (x[0],x[1]) if x[0]<x[1] else (x[1],x[0]),list(map(tuple,np.argwhere(arr>=0.7)))))"
   ]
  },
  {
   "cell_type": "code",
   "execution_count": null,
   "id": "39b66289-9c17-4494-9bfe-20c9a2a58009",
   "metadata": {},
   "outputs": [],
   "source": []
  },
  {
   "cell_type": "code",
   "execution_count": null,
   "id": "bcbf0390-877a-4e5b-a0e8-c784150aba14",
   "metadata": {},
   "outputs": [],
   "source": []
  }
 ],
 "metadata": {
  "kernelspec": {
   "display_name": "Python 3 (ipykernel)",
   "language": "python",
   "name": "python3"
  },
  "language_info": {
   "codemirror_mode": {
    "name": "ipython",
    "version": 3
   },
   "file_extension": ".py",
   "mimetype": "text/x-python",
   "name": "python",
   "nbconvert_exporter": "python",
   "pygments_lexer": "ipython3",
   "version": "3.8.11"
  }
 },
 "nbformat": 4,
 "nbformat_minor": 5
}
