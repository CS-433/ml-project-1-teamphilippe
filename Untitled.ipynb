{
 "cells": [
  {
   "cell_type": "code",
   "execution_count": 1,
   "id": "a5e24e4d",
   "metadata": {},
   "outputs": [],
   "source": [
    "from proj1_helpers import *"
   ]
  },
  {
   "cell_type": "code",
   "execution_count": null,
   "id": "6aaa6595",
   "metadata": {},
   "outputs": [],
   "source": [
    "def sgd(y, tx, initial_w, max_iters, gamma, ):\n",
    "    "
   ]
  },
  {
   "cell_type": "code",
   "execution_count": null,
   "id": "2cdac852",
   "metadata": {},
   "outputs": [],
   "source": [
    "def gd(y, tx, initial_w, max_iters, gamma):\n",
    "    "
   ]
  }
 ],
 "metadata": {
  "kernelspec": {
   "display_name": "Python 3",
   "language": "python",
   "name": "python3"
  },
  "language_info": {
   "codemirror_mode": {
    "name": "ipython",
    "version": 3
   },
   "file_extension": ".py",
   "mimetype": "text/x-python",
   "name": "python",
   "nbconvert_exporter": "python",
   "pygments_lexer": "ipython3",
   "version": "3.8.8"
  }
 },
 "nbformat": 4,
 "nbformat_minor": 5
}
