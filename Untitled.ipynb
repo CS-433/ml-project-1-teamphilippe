{
 "cells": [
  {
   "cell_type": "code",
   "execution_count": 3,
   "id": "2277498d-09ca-4441-9289-d553586b0436",
   "metadata": {},
   "outputs": [],
   "source": [
    "import itertools\n",
    "import numpy as np"
   ]
  },
  {
   "cell_type": "code",
   "execution_count": 5,
   "id": "2eba8f03-9c90-49a2-9ef2-058603f3c1e5",
   "metadata": {},
   "outputs": [],
   "source": [
    "data = np.zeros((4,5))"
   ]
  },
  {
   "cell_type": "code",
   "execution_count": 9,
   "id": "df64383e-b492-43b6-adfc-ce7852910061",
   "metadata": {},
   "outputs": [
    {
     "data": {
      "text/plain": [
       "array([[0, 0],\n",
       "       [0, 1],\n",
       "       [0, 2],\n",
       "       [0, 3],\n",
       "       [0, 4],\n",
       "       [1, 2],\n",
       "       [1, 3],\n",
       "       [1, 4],\n",
       "       [2, 3],\n",
       "       [2, 4],\n",
       "       [3, 4]])"
      ]
     },
     "execution_count": 9,
     "metadata": {},
     "output_type": "execute_result"
    }
   ],
   "source": [
    "list_comb = list(itertools.combinations(range(data.shape[1]),2))\n",
    "list_comb.append((0,0))\n",
    "\n",
    "combinations = np.array(sorted(list_comb))\n",
    "combinations"
   ]
  },
  {
   "cell_type": "code",
   "execution_count": null,
   "id": "f9fc0a43-835d-4f16-a2e4-daea9999b122",
   "metadata": {},
   "outputs": [],
   "source": []
  }
 ],
 "metadata": {
  "kernelspec": {
   "display_name": "Python 3 (ipykernel)",
   "language": "python",
   "name": "python3"
  },
  "language_info": {
   "codemirror_mode": {
    "name": "ipython",
    "version": 3
   },
   "file_extension": ".py",
   "mimetype": "text/x-python",
   "name": "python",
   "nbconvert_exporter": "python",
   "pygments_lexer": "ipython3",
   "version": "3.8.11"
  }
 },
 "nbformat": 4,
 "nbformat_minor": 5
}
