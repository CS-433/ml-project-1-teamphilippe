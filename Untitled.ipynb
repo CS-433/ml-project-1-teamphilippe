{
 "cells": [
  {
   "cell_type": "code",
   "execution_count": 18,
   "id": "ff2eb67f-5700-4d33-b426-d8ad41b82493",
   "metadata": {},
   "outputs": [
    {
     "data": {
      "image/png": "[encoded data removed]",
      "text/plain": [
       "<Figure size 432x288 with 2 Axes>"
      ]
     },
     "metadata": {
      "needs_background": "light"
     },
     "output_type": "display_data"
    }
   ],
   "source": [
    "import matplotlib.pyplot as plt\n",
    "import numpy as np\n",
    "max_degree = 2\n",
    "lambdas = [0,1]\n",
    "degree = list(range(1,max_degree+1))\n",
    "\n",
    "tab= np.array([[0.1,2.6],[2.3,5.6]])\n",
    "\n",
    "fig, ax = plt.subplots()\n",
    "im = ax.imshow(tab, cmap='viridis')\n",
    "\n",
    "ax.set_xticks(np.arange(len(lambdas)))\n",
    "ax.set_yticks(np.arange(len(degree)))\n",
    "\n",
    "ax.set_xticklabels(lambdas)\n",
    "ax.set_yticklabels(degree)\n",
    "plt.colorbar(im,ax=ax)\n",
    "plt.show()"
   ]
  },
  {
   "cell_type": "code",
   "execution_count": null,
   "id": "771f91d5-34dd-4426-a988-203478d92007",
   "metadata": {},
   "outputs": [],
   "source": []
  }
 ],
 "metadata": {
  "kernelspec": {
   "display_name": "Python 3 (ipykernel)",
   "language": "python",
   "name": "python3"
  },
  "language_info": {
   "codemirror_mode": {
    "name": "ipython",
    "version": 3
   },
   "file_extension": ".py",
   "mimetype": "text/x-python",
   "name": "python",
   "nbconvert_exporter": "python",
   "pygments_lexer": "ipython3",
   "version": "3.8.5"
  }
 },
 "nbformat": 4,
 "nbformat_minor": 5
}
