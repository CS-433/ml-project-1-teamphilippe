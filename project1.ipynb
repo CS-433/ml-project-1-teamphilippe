{
 "cells": [
  {
   "cell_type": "code",
   "execution_count": 8,
   "id": "ecf79ffe",
   "metadata": {},
   "outputs": [
    {
     "name": "stdout",
     "output_type": "stream",
     "text": [
      "The autoreload extension is already loaded. To reload it, use:\n",
      "  %reload_ext autoreload\n"
     ]
    }
   ],
   "source": [
    "%load_ext autoreload\n",
    "%autoreload 2\n",
    "from experiment.proj1_helpers import *\n",
    "from implementations import * \n",
    "from experiment.cleaning import *\n",
    "from experiment.cross_validation import *\n",
    "from experiment.simulation import *\n",
    "from experiment.visualisation import *"
   ]
  },
  {
   "cell_type": "code",
   "execution_count": 9,
   "id": "794ba5c2",
   "metadata": {},
   "outputs": [],
   "source": [
    "data_path = \"data/train.csv\""
   ]
  },
  {
   "cell_type": "code",
   "execution_count": 10,
   "id": "4ea212cf",
   "metadata": {},
   "outputs": [],
   "source": [
    "y, x, ids = load_csv_data(data_path, sub_sample=False)"
   ]
  },
  {
   "cell_type": "markdown",
   "id": "85a78569",
   "metadata": {},
   "source": [
    "## Exploratory Data Analysis\n",
    "\n",
    "All features are numeric. The number of jets is discrete."
   ]
  },
  {
   "cell_type": "markdown",
   "id": "b7d5c377",
   "metadata": {},
   "source": [
    "#### Distribution of the features\n",
    "Let's look at the distribution of some of the features."
   ]
  },
  {
   "cell_type": "code",
   "execution_count": 11,
   "id": "56babe48-6281-43aa-8050-8381e2c7cf10",
   "metadata": {},
   "outputs": [
    {
     "data": {
      "image/png": "[encoded data removed]",
      "text/plain": [
       "<Figure size 1080x720 with 4 Axes>"
      ]
     },
     "metadata": {
      "needs_background": "light"
     },
     "output_type": "display_data"
    }
   ],
   "source": [
    "quad_histograms(x,23,3,18,22)"
   ]
  },
  {
   "cell_type": "markdown",
   "id": "2bdd6097",
   "metadata": {},
   "source": [
    "We can see that some features clearly have default values to -999, some seem to have extreme outliers (e.g. feature 3). We can also check that feature index 22 only has non negative integer values."
   ]
  },
  {
   "cell_type": "markdown",
   "id": "acfbef51",
   "metadata": {},
   "source": [
    "### Data cleaning"
   ]
  },
  {
   "cell_type": "code",
   "execution_count": 12,
   "id": "f47ba6b9",
   "metadata": {},
   "outputs": [
    {
     "name": "stdout",
     "output_type": "stream",
     "text": [
      "Number of negative values : 0\n"
     ]
    }
   ],
   "source": [
    "# Check if the values for the number of jets are non negative integers\n",
    "# Column 22 corresponds to this variable\n",
    "print(f'Number of negative values : {np.sum(x[:, 22] < 0)}')"
   ]
  },
  {
   "cell_type": "code",
   "execution_count": 13,
   "id": "58e5e9b0-14e0-4e2b-8c44-46ca45aefe42",
   "metadata": {},
   "outputs": [
    {
     "data": {
      "text/plain": [
       "0"
      ]
     },
     "execution_count": 13,
     "metadata": {},
     "output_type": "execute_result"
    }
   ],
   "source": [
    "# Check that no value in the table is a nan value\n",
    "np.sum(x==np.nan)"
   ]
  },
  {
   "cell_type": "markdown",
   "id": "bcb9d93a-b72b-4a17-b356-0d01acda098d",
   "metadata": {},
   "source": [
    "We can see that we have 250'000 data points with 30 features each."
   ]
  },
  {
   "cell_type": "code",
   "execution_count": 14,
   "id": "f4142855",
   "metadata": {},
   "outputs": [
    {
     "data": {
      "text/plain": [
       "(250000, 30)"
      ]
     },
     "execution_count": 14,
     "metadata": {},
     "output_type": "execute_result"
    }
   ],
   "source": [
    "x.shape"
   ]
  },
  {
   "cell_type": "code",
   "execution_count": 15,
   "id": "c6f7a3be",
   "metadata": {},
   "outputs": [
    {
     "data": {
      "text/plain": [
       "array([ 38114,      0,      0,      0, 177457, 177457, 177457,      0,\n",
       "            0,      0,      0,      0, 177457,      0,      0,      0,\n",
       "            0,      0,      0,      0,      0,      0,      0,  99913,\n",
       "        99913,  99913, 177457, 177457, 177457,      0])"
      ]
     },
     "execution_count": 15,
     "metadata": {},
     "output_type": "execute_result"
    }
   ],
   "source": [
    "np.sum(x == -999, axis=0)"
   ]
  },
  {
   "cell_type": "markdown",
   "id": "e3d56a50-f2ac-438e-805a-e269a1108441",
   "metadata": {},
   "source": [
    "We can see that some of the features have a very high number of undefined values (-999). We could replace this undefined values by e.g. 0 or the mean of the remaining values but this would result in columns having its majority of entries (e.g. 177'000 / 250'000 $\\approx$ 0.7) at the same value. This would imply that there is not a lot of variance in the feature and therefore this does not give much information about the label we want to predict. So we decided to drop the features where more than half of the rows are at -999."
   ]
  },
  {
   "cell_type": "code",
   "execution_count": 16,
   "id": "6682335b",
   "metadata": {},
   "outputs": [],
   "source": [
    "# We remove the features where more than half of the rows are -999\n",
    "x_cleaned, col_removed_training = remove_col_default_values(x)"
   ]
  },
  {
   "cell_type": "code",
   "execution_count": 17,
   "id": "b96c8720-2a34-4de6-bbb5-0b216c47574b",
   "metadata": {},
   "outputs": [
    {
     "data": {
      "text/plain": [
       "[4, 5, 6, 12, 26, 27, 28]"
      ]
     },
     "execution_count": 17,
     "metadata": {},
     "output_type": "execute_result"
    }
   ],
   "source": [
    "col_removed_training"
   ]
  },
  {
   "cell_type": "markdown",
   "id": "c4b9258b-e1d6-43f2-9ca0-555d3ad3dabf",
   "metadata": {},
   "source": [
    "We can see that with this method we dropped 7 columns."
   ]
  },
  {
   "cell_type": "markdown",
   "id": "0a1cbbae",
   "metadata": {},
   "source": [
    "We also looked if some rows were having more than half of its features set to a default value (i.e. -999). In this case, there were no such rows."
   ]
  },
  {
   "cell_type": "code",
   "execution_count": 24,
   "id": "b70042fd",
   "metadata": {},
   "outputs": [
    {
     "name": "stdout",
     "output_type": "stream",
     "text": [
      "Number of rows : 0\n"
     ]
    }
   ],
   "source": [
    "check_nb_rows_default_features(x_cleaned)"
   ]
  },
  {
   "cell_type": "markdown",
   "id": "c4557b2a",
   "metadata": {},
   "source": [
    "\n",
    "\n",
    "For the remaining default values, we decided to set them to -999. We did this instead of e.g. replacing them by the mean or median of the remaining values because we noted that the models actually performed better."
   ]
  },
  {
   "cell_type": "code",
   "execution_count": 26,
   "id": "f5016b46",
   "metadata": {},
   "outputs": [],
   "source": [
    "x_cleaned, default_values_training = replace_by_default_value(x_cleaned)"
   ]
  },
  {
   "cell_type": "markdown",
   "id": "5dace82d-2e1e-4500-90ae-2be13f3c066d",
   "metadata": {},
   "source": [
    "Some features represents angles, which are supposed to be in the range $[\\pi; -\\pi[$ according to the documentation of the dataset (https://higgsml.lal.in2p3.fr/files/2014/04/documentation_v1.8.pdf). Let's check this is the case."
   ]
  },
  {
   "cell_type": "code",
   "execution_count": 28,
   "id": "cd264722-c052-4b62-8d55-921ae4558989",
   "metadata": {},
   "outputs": [
    {
     "name": "stdout",
     "output_type": "stream",
     "text": [
      "Number of values outside [-pi;pi[ (col 11): 0\n",
      "Number of values outside [-pi;pi[ (col 14): 0\n",
      "Number of values outside [-pi;pi[ (col 16): 0\n",
      "Number of values outside [-pi;pi[ (col 21): 0\n"
     ]
    }
   ],
   "source": [
    "cols_angle = [11, 14, 16, 21]\n",
    "x_cleaned = check_all_azimuth_angles(x_cleaned, cols_angle)"
   ]
  },
  {
   "cell_type": "markdown",
   "id": "77b18a48-80a4-4c92-85f5-435962554641",
   "metadata": {},
   "source": [
    "We can see that some of the features have rows with azimuth outside the range. For these features indexes we deciced to put the non-valid values back in the $[-\\pi; \\pi[$ interval by taking the modulo $2 \\pi$ and subtracting $\\pi$."
   ]
  },
  {
   "cell_type": "code",
   "execution_count": 29,
   "id": "071dbb1c-7f90-4c47-b97b-f893257af4aa",
   "metadata": {},
   "outputs": [
    {
     "data": {
      "image/png": "[encoded data removed]",
      "text/plain": [
       "<Figure size 1080x360 with 2 Axes>"
      ]
     },
     "metadata": {
      "needs_background": "light"
     },
     "output_type": "display_data"
    }
   ],
   "source": [
    "double_histograms(x_cleaned, 3,19)"
   ]
  },
  {
   "cell_type": "markdown",
   "id": "bc94b1a1",
   "metadata": {},
   "source": [
    "#### Removing outliers\n",
    "We can observe that in some features there still seems to be some outliers (e.g. see the histogram above for feature index 3).\n",
    "\n",
    "\n",
    "We will deal with them using a method based on the Inter Quartile Range (IQR). "
   ]
  },
  {
   "cell_type": "code",
   "execution_count": 30,
   "id": "5d5c7fe9",
   "metadata": {},
   "outputs": [],
   "source": [
    "x_cleaned, above_lim_training, below_lim_training = clip_IQR(x_cleaned)"
   ]
  },
  {
   "cell_type": "code",
   "execution_count": 31,
   "id": "6d8c57c2-7714-4df4-8ad2-22091583c638",
   "metadata": {},
   "outputs": [
    {
     "data": {
      "text/plain": [
       "[11, 14, 16, 21]"
      ]
     },
     "execution_count": 31,
     "metadata": {},
     "output_type": "execute_result"
    }
   ],
   "source": [
    "cols_angle"
   ]
  },
  {
   "cell_type": "code",
   "execution_count": 32,
   "id": "72e581d9",
   "metadata": {},
   "outputs": [],
   "source": [
    "x_cleaned_copy = x_cleaned.copy()"
   ]
  },
  {
   "cell_type": "code",
   "execution_count": 58,
   "id": "a928ec2b-2ea7-4b7c-9f17-3cca17ffd4e5",
   "metadata": {
    "scrolled": true
   },
   "outputs": [
    {
     "name": "stdout",
     "output_type": "stream",
     "text": [
      "End of processing + expansion\n",
      "Beginning training\n",
      "Beginning cross-validation\n",
      "Perform cross-validation for lambda=0.0000 and degree=2\n",
      "Loss for lambda=0.0000 and degree=2 : tr=0.740069, te=0.742243\n",
      "\n",
      "Perform cross-validation for lambda=0.0000 and degree=2\n",
      "Loss for lambda=0.0000 and degree=2 : tr=0.740069, te=0.742243\n",
      "\n",
      "Perform cross-validation for lambda=0.0000 and degree=2\n",
      "Loss for lambda=0.0000 and degree=2 : tr=0.740069, te=0.742243\n",
      "\n",
      "Perform cross-validation for lambda=0.0000 and degree=2\n",
      "Loss for lambda=0.0000 and degree=2 : tr=0.740069, te=0.742243\n",
      "\n",
      "Perform cross-validation for lambda=0.0000 and degree=2\n",
      "Loss for lambda=0.0000 and degree=2 : tr=0.740069, te=0.742243\n",
      "\n",
      "Perform cross-validation for lambda=0.0000 and degree=2\n",
      "Loss for lambda=0.0000 and degree=2 : tr=0.740069, te=0.742243\n",
      "\n",
      "Perform cross-validation for lambda=0.0000 and degree=2\n",
      "Loss for lambda=0.0000 and degree=2 : tr=0.740069, te=0.742240\n",
      "\n",
      "Perform cross-validation for lambda=0.0000 and degree=2\n",
      "Loss for lambda=0.0000 and degree=2 : tr=0.740080, te=0.742233\n",
      "\n",
      "Perform cross-validation for lambda=0.0000 and degree=2\n",
      "Loss for lambda=0.0000 and degree=2 : tr=0.740094, te=0.742235\n",
      "\n",
      "Perform cross-validation for lambda=0.0000 and degree=2\n",
      "Loss for lambda=0.0000 and degree=2 : tr=0.740100, te=0.742227\n",
      "\n",
      "Perform cross-validation for lambda=0.0001 and degree=2\n",
      "Loss for lambda=0.0001 and degree=2 : tr=0.740153, te=0.742209\n",
      "\n",
      "Perform cross-validation for lambda=0.0006 and degree=2\n",
      "Loss for lambda=0.0006 and degree=2 : tr=0.740334, te=0.742173\n",
      "\n",
      "Perform cross-validation for lambda=0.0072 and degree=2\n",
      "Loss for lambda=0.0072 and degree=2 : tr=0.741771, te=0.743175\n",
      "\n",
      "Perform cross-validation for lambda=0.0848 and degree=2\n",
      "Loss for lambda=0.0848 and degree=2 : tr=0.750040, te=0.750889\n",
      "\n",
      "Perform cross-validation for lambda=1.0000 and degree=2\n",
      "Loss for lambda=1.0000 and degree=2 : tr=0.782970, te=0.783304\n",
      "\n",
      "Perform cross-validation for lambda=0.0000 and degree=3\n",
      "Loss for lambda=0.0000 and degree=3 : tr=0.724076, te=0.726269\n",
      "\n",
      "Perform cross-validation for lambda=0.0000 and degree=3\n",
      "Loss for lambda=0.0000 and degree=3 : tr=0.724076, te=0.726269\n",
      "\n",
      "Perform cross-validation for lambda=0.0000 and degree=3\n",
      "Loss for lambda=0.0000 and degree=3 : tr=0.724077, te=0.726266\n",
      "\n",
      "Perform cross-validation for lambda=0.0000 and degree=3\n",
      "Loss for lambda=0.0000 and degree=3 : tr=0.724087, te=0.726266\n",
      "\n",
      "Perform cross-validation for lambda=0.0000 and degree=3\n",
      "Loss for lambda=0.0000 and degree=3 : tr=0.724092, te=0.726268\n",
      "\n",
      "Perform cross-validation for lambda=0.0000 and degree=3\n",
      "Loss for lambda=0.0000 and degree=3 : tr=0.724093, te=0.726268\n",
      "\n",
      "Perform cross-validation for lambda=0.0000 and degree=3\n",
      "Loss for lambda=0.0000 and degree=3 : tr=0.724093, te=0.726267\n",
      "\n",
      "Perform cross-validation for lambda=0.0000 and degree=3\n",
      "Loss for lambda=0.0000 and degree=3 : tr=0.724097, te=0.726265\n",
      "\n",
      "Perform cross-validation for lambda=0.0000 and degree=3\n",
      "Loss for lambda=0.0000 and degree=3 : tr=0.724111, te=0.726262\n",
      "\n",
      "Perform cross-validation for lambda=0.0000 and degree=3\n",
      "Loss for lambda=0.0000 and degree=3 : tr=0.724129, te=0.726257\n",
      "\n",
      "Perform cross-validation for lambda=0.0001 and degree=3\n",
      "Loss for lambda=0.0001 and degree=3 : tr=0.724197, te=0.726258\n",
      "\n",
      "Perform cross-validation for lambda=0.0006 and degree=3\n",
      "Loss for lambda=0.0006 and degree=3 : tr=0.724408, te=0.726262\n",
      "\n",
      "Perform cross-validation for lambda=0.0072 and degree=3\n",
      "Loss for lambda=0.0072 and degree=3 : tr=0.725777, te=0.727209\n",
      "\n",
      "Perform cross-validation for lambda=0.0848 and degree=3\n",
      "Loss for lambda=0.0848 and degree=3 : tr=0.734684, te=0.735564\n",
      "\n",
      "Perform cross-validation for lambda=1.0000 and degree=3\n",
      "Loss for lambda=1.0000 and degree=3 : tr=0.775325, te=0.775687\n",
      "\n",
      "Perform cross-validation for lambda=0.0000 and degree=4\n",
      "Loss for lambda=0.0000 and degree=4 : tr=0.718310, te=0.720572\n",
      "\n",
      "Perform cross-validation for lambda=0.0000 and degree=4\n",
      "Loss for lambda=0.0000 and degree=4 : tr=0.718310, te=0.720572\n",
      "\n",
      "Perform cross-validation for lambda=0.0000 and degree=4\n",
      "Loss for lambda=0.0000 and degree=4 : tr=0.718311, te=0.720568\n",
      "\n",
      "Perform cross-validation for lambda=0.0000 and degree=4\n",
      "Loss for lambda=0.0000 and degree=4 : tr=0.718321, te=0.720562\n",
      "\n",
      "Perform cross-validation for lambda=0.0000 and degree=4\n",
      "Loss for lambda=0.0000 and degree=4 : tr=0.718326, te=0.720557\n",
      "\n",
      "Perform cross-validation for lambda=0.0000 and degree=4\n",
      "Loss for lambda=0.0000 and degree=4 : tr=0.718327, te=0.720556\n",
      "\n",
      "Perform cross-validation for lambda=0.0000 and degree=4\n",
      "Loss for lambda=0.0000 and degree=4 : tr=0.718327, te=0.720555\n",
      "\n",
      "Perform cross-validation for lambda=0.0000 and degree=4\n",
      "Loss for lambda=0.0000 and degree=4 : tr=0.718327, te=0.720553\n",
      "\n",
      "Perform cross-validation for lambda=0.0000 and degree=4\n",
      "Loss for lambda=0.0000 and degree=4 : tr=0.718334, te=0.720546\n",
      "\n",
      "Perform cross-validation for lambda=0.0000 and degree=4\n",
      "Loss for lambda=0.0000 and degree=4 : tr=0.718363, te=0.720547\n",
      "\n",
      "Perform cross-validation for lambda=0.0001 and degree=4\n",
      "Loss for lambda=0.0001 and degree=4 : tr=0.718471, te=0.720584\n",
      "\n",
      "Perform cross-validation for lambda=0.0006 and degree=4\n",
      "Loss for lambda=0.0006 and degree=4 : tr=0.718772, te=0.720676\n",
      "\n",
      "Perform cross-validation for lambda=0.0072 and degree=4\n",
      "Loss for lambda=0.0072 and degree=4 : tr=0.720589, te=0.722073\n",
      "\n",
      "Perform cross-validation for lambda=0.0848 and degree=4\n",
      "Loss for lambda=0.0848 and degree=4 : tr=0.731150, te=0.732068\n",
      "\n",
      "Perform cross-validation for lambda=1.0000 and degree=4\n",
      "Loss for lambda=1.0000 and degree=4 : tr=0.771135, te=0.771536\n",
      "\n",
      "Perform cross-validation for lambda=0.0000 and degree=5\n",
      "Loss for lambda=0.0000 and degree=5 : tr=0.716288, te=0.718607\n",
      "\n",
      "Perform cross-validation for lambda=0.0000 and degree=5\n",
      "Loss for lambda=0.0000 and degree=5 : tr=0.716288, te=0.718608\n",
      "\n",
      "Perform cross-validation for lambda=0.0000 and degree=5\n",
      "Loss for lambda=0.0000 and degree=5 : tr=0.716288, te=0.718606\n",
      "\n",
      "Perform cross-validation for lambda=0.0000 and degree=5\n",
      "Loss for lambda=0.0000 and degree=5 : tr=0.716288, te=0.718601\n",
      "\n",
      "Perform cross-validation for lambda=0.0000 and degree=5\n",
      "Loss for lambda=0.0000 and degree=5 : tr=0.716290, te=0.718592\n",
      "\n",
      "Perform cross-validation for lambda=0.0000 and degree=5\n",
      "Loss for lambda=0.0000 and degree=5 : tr=0.716299, te=0.718590\n",
      "\n",
      "Perform cross-validation for lambda=0.0000 and degree=5\n",
      "Loss for lambda=0.0000 and degree=5 : tr=0.716305, te=0.718591\n",
      "\n",
      "Perform cross-validation for lambda=0.0000 and degree=5\n",
      "Loss for lambda=0.0000 and degree=5 : tr=0.716305, te=0.718591\n",
      "\n",
      "Perform cross-validation for lambda=0.0000 and degree=5\n",
      "Loss for lambda=0.0000 and degree=5 : tr=0.716306, te=0.718587\n",
      "\n",
      "Perform cross-validation for lambda=0.0000 and degree=5\n",
      "Loss for lambda=0.0000 and degree=5 : tr=0.716331, te=0.718583\n",
      "\n",
      "Perform cross-validation for lambda=0.0001 and degree=5\n",
      "Loss for lambda=0.0001 and degree=5 : tr=0.716448, te=0.718621\n",
      "\n",
      "Perform cross-validation for lambda=0.0006 and degree=5\n",
      "Loss for lambda=0.0006 and degree=5 : tr=0.716754, te=0.718719\n",
      "\n",
      "Perform cross-validation for lambda=0.0072 and degree=5\n",
      "Loss for lambda=0.0072 and degree=5 : tr=0.719072, te=0.720605\n",
      "\n",
      "Perform cross-validation for lambda=0.0848 and degree=5\n",
      "Loss for lambda=0.0848 and degree=5 : tr=0.731446, te=0.732399\n",
      "\n",
      "Perform cross-validation for lambda=1.0000 and degree=5\n",
      "Loss for lambda=1.0000 and degree=5 : tr=0.765913, te=0.766342\n",
      "\n",
      "Perform cross-validation for lambda=0.0000 and degree=6\n",
      "Loss for lambda=0.0000 and degree=6 : tr=0.715828, te=0.718224\n",
      "\n",
      "Perform cross-validation for lambda=0.0000 and degree=6\n",
      "Loss for lambda=0.0000 and degree=6 : tr=0.715829, te=0.718223\n",
      "\n",
      "Perform cross-validation for lambda=0.0000 and degree=6\n",
      "Loss for lambda=0.0000 and degree=6 : tr=0.715830, te=0.718223\n",
      "\n",
      "Perform cross-validation for lambda=0.0000 and degree=6\n",
      "Loss for lambda=0.0000 and degree=6 : tr=0.715830, te=0.718223\n",
      "\n",
      "Perform cross-validation for lambda=0.0000 and degree=6\n",
      "Loss for lambda=0.0000 and degree=6 : tr=0.715831, te=0.718220\n",
      "\n",
      "Perform cross-validation for lambda=0.0000 and degree=6\n",
      "Loss for lambda=0.0000 and degree=6 : tr=0.715840, te=0.718217\n",
      "\n",
      "Perform cross-validation for lambda=0.0000 and degree=6\n",
      "Loss for lambda=0.0000 and degree=6 : tr=0.715846, te=0.718211\n",
      "\n",
      "Perform cross-validation for lambda=0.0000 and degree=6\n",
      "Loss for lambda=0.0000 and degree=6 : tr=0.715847, te=0.718207\n",
      "\n",
      "Perform cross-validation for lambda=0.0000 and degree=6\n",
      "Loss for lambda=0.0000 and degree=6 : tr=0.715847, te=0.718204\n",
      "\n",
      "Perform cross-validation for lambda=0.0000 and degree=6\n",
      "Loss for lambda=0.0000 and degree=6 : tr=0.715865, te=0.718197\n",
      "\n",
      "Perform cross-validation for lambda=0.0001 and degree=6\n",
      "Loss for lambda=0.0001 and degree=6 : tr=0.715981, te=0.718233\n",
      "\n",
      "Perform cross-validation for lambda=0.0006 and degree=6\n",
      "Loss for lambda=0.0006 and degree=6 : tr=0.716292, te=0.718323\n",
      "\n",
      "Perform cross-validation for lambda=0.0072 and degree=6\n",
      "Loss for lambda=0.0072 and degree=6 : tr=0.718661, te=0.720232\n",
      "\n",
      "Perform cross-validation for lambda=0.0848 and degree=6\n",
      "Loss for lambda=0.0848 and degree=6 : tr=0.730392, te=0.731375\n",
      "\n",
      "Perform cross-validation for lambda=1.0000 and degree=6\n",
      "Loss for lambda=1.0000 and degree=6 : tr=0.762862, te=0.763319\n",
      "\n",
      "Perform cross-validation for lambda=0.0000 and degree=7\n",
      "Loss for lambda=0.0000 and degree=7 : tr=0.715515, te=0.718003\n",
      "\n",
      "Perform cross-validation for lambda=0.0000 and degree=7\n",
      "Loss for lambda=0.0000 and degree=7 : tr=0.715521, te=0.717996\n",
      "\n",
      "Perform cross-validation for lambda=0.0000 and degree=7\n",
      "Loss for lambda=0.0000 and degree=7 : tr=0.715527, te=0.717997\n",
      "\n",
      "Perform cross-validation for lambda=0.0000 and degree=7\n",
      "Loss for lambda=0.0000 and degree=7 : tr=0.715528, te=0.717997\n",
      "\n",
      "Perform cross-validation for lambda=0.0000 and degree=7\n",
      "Loss for lambda=0.0000 and degree=7 : tr=0.715528, te=0.717996\n",
      "\n",
      "Perform cross-validation for lambda=0.0000 and degree=7\n",
      "Loss for lambda=0.0000 and degree=7 : tr=0.715528, te=0.717994\n",
      "\n",
      "Perform cross-validation for lambda=0.0000 and degree=7\n",
      "Loss for lambda=0.0000 and degree=7 : tr=0.715530, te=0.717983\n",
      "\n",
      "Perform cross-validation for lambda=0.0000 and degree=7\n",
      "Loss for lambda=0.0000 and degree=7 : tr=0.715541, te=0.717979\n",
      "\n",
      "Perform cross-validation for lambda=0.0000 and degree=7\n",
      "Loss for lambda=0.0000 and degree=7 : tr=0.715546, te=0.717979\n",
      "\n",
      "Perform cross-validation for lambda=0.0000 and degree=7\n",
      "Loss for lambda=0.0000 and degree=7 : tr=0.715558, te=0.717976\n",
      "\n",
      "Perform cross-validation for lambda=0.0001 and degree=7\n",
      "Loss for lambda=0.0001 and degree=7 : tr=0.715670, te=0.718014\n",
      "\n",
      "Perform cross-validation for lambda=0.0006 and degree=7\n",
      "Loss for lambda=0.0006 and degree=7 : tr=0.716068, te=0.718171\n",
      "\n",
      "Perform cross-validation for lambda=0.0072 and degree=7\n",
      "Loss for lambda=0.0072 and degree=7 : tr=0.718772, te=0.720388\n",
      "\n",
      "Perform cross-validation for lambda=0.0848 and degree=7\n",
      "Loss for lambda=0.0848 and degree=7 : tr=0.728845, te=0.729863\n",
      "\n",
      "Perform cross-validation for lambda=1.0000 and degree=7\n",
      "Loss for lambda=1.0000 and degree=7 : tr=0.762370, te=0.762861\n",
      "\n",
      "Perform cross-validation for lambda=0.0000 and degree=8\n",
      "Loss for lambda=0.0000 and degree=8 : tr=0.715290, te=0.717874\n",
      "\n",
      "Perform cross-validation for lambda=0.0000 and degree=8\n",
      "Loss for lambda=0.0000 and degree=8 : tr=0.715296, te=0.717866\n",
      "\n",
      "Perform cross-validation for lambda=0.0000 and degree=8\n",
      "Loss for lambda=0.0000 and degree=8 : tr=0.715303, te=0.717862\n",
      "\n",
      "Perform cross-validation for lambda=0.0000 and degree=8\n",
      "Loss for lambda=0.0000 and degree=8 : tr=0.715306, te=0.717860\n",
      "\n",
      "Perform cross-validation for lambda=0.0000 and degree=8\n",
      "Loss for lambda=0.0000 and degree=8 : tr=0.715307, te=0.717860\n",
      "\n",
      "Perform cross-validation for lambda=0.0000 and degree=8\n",
      "Loss for lambda=0.0000 and degree=8 : tr=0.715307, te=0.717859\n",
      "\n",
      "Perform cross-validation for lambda=0.0000 and degree=8\n",
      "Loss for lambda=0.0000 and degree=8 : tr=0.715308, te=0.717857\n",
      "\n",
      "Perform cross-validation for lambda=0.0000 and degree=8\n",
      "Loss for lambda=0.0000 and degree=8 : tr=0.715318, te=0.717856\n",
      "\n",
      "Perform cross-validation for lambda=0.0000 and degree=8\n",
      "Loss for lambda=0.0000 and degree=8 : tr=0.715323, te=0.717855\n",
      "\n",
      "Perform cross-validation for lambda=0.0000 and degree=8\n",
      "Loss for lambda=0.0000 and degree=8 : tr=0.715337, te=0.717851\n",
      "\n",
      "Perform cross-validation for lambda=0.0001 and degree=8\n",
      "Loss for lambda=0.0001 and degree=8 : tr=0.715458, te=0.717887\n",
      "\n",
      "Perform cross-validation for lambda=0.0006 and degree=8\n",
      "Loss for lambda=0.0006 and degree=8 : tr=0.715900, te=0.718063\n",
      "\n",
      "Perform cross-validation for lambda=0.0072 and degree=8\n",
      "Loss for lambda=0.0072 and degree=8 : tr=0.718552, te=0.720213\n",
      "\n",
      "Perform cross-validation for lambda=0.0848 and degree=8\n",
      "Loss for lambda=0.0848 and degree=8 : tr=0.728601, te=0.729656\n",
      "\n",
      "Perform cross-validation for lambda=1.0000 and degree=8\n",
      "Loss for lambda=1.0000 and degree=8 : tr=0.761958, te=0.762483\n",
      "\n",
      "Perform cross-validation for lambda=0.0000 and degree=9\n",
      "Loss for lambda=0.0000 and degree=9 : tr=0.715171, te=0.717835\n",
      "\n",
      "Perform cross-validation for lambda=0.0000 and degree=9\n",
      "Loss for lambda=0.0000 and degree=9 : tr=0.715171, te=0.717834\n",
      "\n",
      "Perform cross-validation for lambda=0.0000 and degree=9\n",
      "Loss for lambda=0.0000 and degree=9 : tr=0.715172, te=0.717830\n",
      "\n",
      "Perform cross-validation for lambda=0.0000 and degree=9\n",
      "Loss for lambda=0.0000 and degree=9 : tr=0.715175, te=0.717824\n",
      "\n",
      "Perform cross-validation for lambda=0.0000 and degree=9\n",
      "Loss for lambda=0.0000 and degree=9 : tr=0.715182, te=0.717819\n",
      "\n",
      "Perform cross-validation for lambda=0.0000 and degree=9\n",
      "Loss for lambda=0.0000 and degree=9 : tr=0.715187, te=0.717819\n",
      "\n",
      "Perform cross-validation for lambda=0.0000 and degree=9\n",
      "Loss for lambda=0.0000 and degree=9 : tr=0.715188, te=0.717819\n",
      "\n",
      "Perform cross-validation for lambda=0.0000 and degree=9\n",
      "Loss for lambda=0.0000 and degree=9 : tr=0.715188, te=0.717818\n",
      "\n",
      "Perform cross-validation for lambda=0.0000 and degree=9\n",
      "Loss for lambda=0.0000 and degree=9 : tr=0.715189, te=0.717815\n",
      "\n",
      "Perform cross-validation for lambda=0.0000 and degree=9\n",
      "Loss for lambda=0.0000 and degree=9 : tr=0.715204, te=0.717808\n",
      "\n",
      "Perform cross-validation for lambda=0.0001 and degree=9\n",
      "Loss for lambda=0.0001 and degree=9 : tr=0.715331, te=0.717832\n",
      "\n",
      "Perform cross-validation for lambda=0.0006 and degree=9\n",
      "Loss for lambda=0.0006 and degree=9 : tr=0.715835, te=0.718047\n",
      "\n",
      "Perform cross-validation for lambda=0.0072 and degree=9\n",
      "Loss for lambda=0.0072 and degree=9 : tr=0.718173, te=0.719882\n",
      "\n",
      "Perform cross-validation for lambda=0.0848 and degree=9\n",
      "Loss for lambda=0.0848 and degree=9 : tr=0.728841, te=0.729932\n",
      "\n",
      "Perform cross-validation for lambda=1.0000 and degree=9\n",
      "Loss for lambda=1.0000 and degree=9 : tr=0.760717, te=0.761275\n",
      "\n",
      "Perform cross-validation for lambda=0.0000 and degree=10\n",
      "Loss for lambda=0.0000 and degree=10 : tr=0.715007, te=0.717739\n",
      "\n",
      "Perform cross-validation for lambda=0.0000 and degree=10\n",
      "Loss for lambda=0.0000 and degree=10 : tr=0.715007, te=0.717739\n",
      "\n",
      "Perform cross-validation for lambda=0.0000 and degree=10\n",
      "Loss for lambda=0.0000 and degree=10 : tr=0.715007, te=0.717738\n",
      "\n",
      "Perform cross-validation for lambda=0.0000 and degree=10\n",
      "Loss for lambda=0.0000 and degree=10 : tr=0.715007, te=0.717735\n",
      "\n",
      "Perform cross-validation for lambda=0.0000 and degree=10\n",
      "Loss for lambda=0.0000 and degree=10 : tr=0.715013, te=0.717729\n",
      "\n",
      "Perform cross-validation for lambda=0.0000 and degree=10\n",
      "Loss for lambda=0.0000 and degree=10 : tr=0.715018, te=0.717730\n",
      "\n",
      "Perform cross-validation for lambda=0.0000 and degree=10\n",
      "Loss for lambda=0.0000 and degree=10 : tr=0.715019, te=0.717729\n",
      "\n",
      "Perform cross-validation for lambda=0.0000 and degree=10\n",
      "Loss for lambda=0.0000 and degree=10 : tr=0.715019, te=0.717727\n",
      "\n",
      "Perform cross-validation for lambda=0.0000 and degree=10\n",
      "Loss for lambda=0.0000 and degree=10 : tr=0.715020, te=0.717721\n",
      "\n",
      "Perform cross-validation for lambda=0.0000 and degree=10\n",
      "Loss for lambda=0.0000 and degree=10 : tr=0.715036, te=0.717711\n",
      "\n",
      "Perform cross-validation for lambda=0.0001 and degree=10\n",
      "Loss for lambda=0.0001 and degree=10 : tr=0.715186, te=0.717742\n",
      "\n",
      "Perform cross-validation for lambda=0.0006 and degree=10\n",
      "Loss for lambda=0.0006 and degree=10 : tr=0.715697, te=0.717953\n",
      "\n",
      "Perform cross-validation for lambda=0.0072 and degree=10\n",
      "Loss for lambda=0.0072 and degree=10 : tr=0.718047, te=0.719797\n",
      "\n",
      "Perform cross-validation for lambda=0.0848 and degree=10\n",
      "Loss for lambda=0.0848 and degree=10 : tr=0.728606, te=0.729733\n",
      "\n",
      "Perform cross-validation for lambda=1.0000 and degree=10\n",
      "Loss for lambda=1.0000 and degree=10 : tr=0.760282, te=0.760874\n",
      "\n",
      "Perform cross-validation for lambda=0.0000 and degree=11\n",
      "Loss for lambda=0.0000 and degree=11 : tr=0.714949, te=0.717786\n",
      "\n",
      "Perform cross-validation for lambda=0.0000 and degree=11\n",
      "Loss for lambda=0.0000 and degree=11 : tr=0.714954, te=0.717773\n",
      "\n",
      "Perform cross-validation for lambda=0.0000 and degree=11\n",
      "Loss for lambda=0.0000 and degree=11 : tr=0.714959, te=0.717774\n",
      "\n",
      "Perform cross-validation for lambda=0.0000 and degree=11\n",
      "Loss for lambda=0.0000 and degree=11 : tr=0.714959, te=0.717774\n",
      "\n",
      "Perform cross-validation for lambda=0.0000 and degree=11\n",
      "Loss for lambda=0.0000 and degree=11 : tr=0.714959, te=0.717774\n",
      "\n",
      "Perform cross-validation for lambda=0.0000 and degree=11\n",
      "Loss for lambda=0.0000 and degree=11 : tr=0.714959, te=0.717774\n",
      "\n",
      "Perform cross-validation for lambda=0.0000 and degree=11\n",
      "Loss for lambda=0.0000 and degree=11 : tr=0.714959, te=0.717772\n",
      "\n",
      "Perform cross-validation for lambda=0.0000 and degree=11\n",
      "Loss for lambda=0.0000 and degree=11 : tr=0.714960, te=0.717767\n",
      "\n",
      "Perform cross-validation for lambda=0.0000 and degree=11\n",
      "Loss for lambda=0.0000 and degree=11 : tr=0.714963, te=0.717760\n",
      "\n",
      "Perform cross-validation for lambda=0.0000 and degree=11\n",
      "Loss for lambda=0.0000 and degree=11 : tr=0.714982, te=0.717736\n",
      "\n",
      "Perform cross-validation for lambda=0.0001 and degree=11\n",
      "Loss for lambda=0.0001 and degree=11 : tr=0.715141, te=0.717749\n",
      "\n",
      "Perform cross-validation for lambda=0.0006 and degree=11\n",
      "Loss for lambda=0.0006 and degree=11 : tr=0.715629, te=0.717930\n",
      "\n",
      "Perform cross-validation for lambda=0.0072 and degree=11\n",
      "Loss for lambda=0.0072 and degree=11 : tr=0.718098, te=0.719888\n",
      "\n",
      "Perform cross-validation for lambda=0.0848 and degree=11\n",
      "Loss for lambda=0.0848 and degree=11 : tr=0.727812, te=0.728974\n",
      "\n",
      "Perform cross-validation for lambda=1.0000 and degree=11\n",
      "Loss for lambda=1.0000 and degree=11 : tr=0.760154, te=0.760774\n",
      "\n",
      "Perform cross-validation for lambda=0.0000 and degree=12\n",
      "Loss for lambda=0.0000 and degree=12 : tr=0.714902, te=0.717838\n",
      "\n",
      "Perform cross-validation for lambda=0.0000 and degree=12\n",
      "Loss for lambda=0.0000 and degree=12 : tr=0.714894, te=0.717801\n",
      "\n",
      "Perform cross-validation for lambda=0.0000 and degree=12\n",
      "Loss for lambda=0.0000 and degree=12 : tr=0.715023, te=0.717891\n",
      "\n",
      "Perform cross-validation for lambda=0.0000 and degree=12\n",
      "Loss for lambda=0.0000 and degree=12 : tr=0.714899, te=0.717814\n",
      "\n",
      "Perform cross-validation for lambda=0.0000 and degree=12\n",
      "Loss for lambda=0.0000 and degree=12 : tr=0.714905, te=0.717828\n",
      "\n",
      "Perform cross-validation for lambda=0.0000 and degree=12\n",
      "Loss for lambda=0.0000 and degree=12 : tr=0.714899, te=0.717814\n",
      "\n",
      "Perform cross-validation for lambda=0.0000 and degree=12\n",
      "Loss for lambda=0.0000 and degree=12 : tr=0.714898, te=0.717803\n",
      "\n",
      "Perform cross-validation for lambda=0.0000 and degree=12\n",
      "Loss for lambda=0.0000 and degree=12 : tr=0.714899, te=0.717794\n",
      "\n",
      "Perform cross-validation for lambda=0.0000 and degree=12\n",
      "Loss for lambda=0.0000 and degree=12 : tr=0.714903, te=0.717782\n",
      "\n",
      "Perform cross-validation for lambda=0.0000 and degree=12\n",
      "Loss for lambda=0.0000 and degree=12 : tr=0.714925, te=0.717745\n",
      "\n",
      "Perform cross-validation for lambda=0.0001 and degree=12\n",
      "Loss for lambda=0.0001 and degree=12 : tr=0.715074, te=0.717736\n",
      "\n",
      "Perform cross-validation for lambda=0.0006 and degree=12\n",
      "Loss for lambda=0.0006 and degree=12 : tr=0.715565, te=0.717909\n",
      "\n",
      "Perform cross-validation for lambda=0.0072 and degree=12\n",
      "Loss for lambda=0.0072 and degree=12 : tr=0.717998, te=0.719825\n",
      "\n",
      "Perform cross-validation for lambda=0.0848 and degree=12\n",
      "Loss for lambda=0.0848 and degree=12 : tr=0.727695, te=0.728889\n",
      "\n",
      "Perform cross-validation for lambda=1.0000 and degree=12\n",
      "Loss for lambda=1.0000 and degree=12 : tr=0.759773, te=0.760427\n",
      "\n",
      "Perform cross-validation for lambda=0.0000 and degree=13\n",
      "Loss for lambda=0.0000 and degree=13 : tr=0.714827, te=0.717828\n",
      "\n",
      "Perform cross-validation for lambda=0.0000 and degree=13\n",
      "Loss for lambda=0.0000 and degree=13 : tr=0.714824, te=0.717829\n",
      "\n",
      "Perform cross-validation for lambda=0.0000 and degree=13\n",
      "Loss for lambda=0.0000 and degree=13 : tr=0.714834, te=0.717836\n",
      "\n",
      "Perform cross-validation for lambda=0.0000 and degree=13\n",
      "Loss for lambda=0.0000 and degree=13 : tr=0.714827, te=0.717830\n",
      "\n",
      "Perform cross-validation for lambda=0.0000 and degree=13\n",
      "Loss for lambda=0.0000 and degree=13 : tr=0.714826, te=0.717830\n",
      "\n",
      "Perform cross-validation for lambda=0.0000 and degree=13\n",
      "Loss for lambda=0.0000 and degree=13 : tr=0.714822, te=0.717825\n",
      "\n",
      "Perform cross-validation for lambda=0.0000 and degree=13\n",
      "Loss for lambda=0.0000 and degree=13 : tr=0.714822, te=0.717822\n",
      "\n",
      "Perform cross-validation for lambda=0.0000 and degree=13\n",
      "Loss for lambda=0.0000 and degree=13 : tr=0.714822, te=0.717807\n",
      "\n",
      "Perform cross-validation for lambda=0.0000 and degree=13\n",
      "Loss for lambda=0.0000 and degree=13 : tr=0.714825, te=0.717785\n",
      "\n",
      "Perform cross-validation for lambda=0.0000 and degree=13\n",
      "Loss for lambda=0.0000 and degree=13 : tr=0.714858, te=0.717738\n",
      "\n",
      "Perform cross-validation for lambda=0.0001 and degree=13\n",
      "Loss for lambda=0.0001 and degree=13 : tr=0.715012, te=0.717727\n",
      "\n",
      "Perform cross-validation for lambda=0.0006 and degree=13\n",
      "Loss for lambda=0.0006 and degree=13 : tr=0.715496, te=0.717885\n",
      "\n",
      "Perform cross-validation for lambda=0.0072 and degree=13\n",
      "Loss for lambda=0.0072 and degree=13 : tr=0.717912, te=0.719779\n",
      "\n",
      "Perform cross-validation for lambda=0.0848 and degree=13\n",
      "Loss for lambda=0.0848 and degree=13 : tr=0.727833, te=0.729062\n",
      "\n",
      "Perform cross-validation for lambda=1.0000 and degree=13\n",
      "Loss for lambda=1.0000 and degree=13 : tr=0.759059, te=0.759736\n",
      "\n",
      "Perform cross-validation for lambda=0.0000 and degree=14\n",
      "Loss for lambda=0.0000 and degree=14 : tr=0.714796, te=0.717877\n",
      "\n",
      "Perform cross-validation for lambda=0.0000 and degree=14\n",
      "Loss for lambda=0.0000 and degree=14 : tr=0.714744, te=0.717820\n",
      "\n",
      "Perform cross-validation for lambda=0.0000 and degree=14\n",
      "Loss for lambda=0.0000 and degree=14 : tr=0.714735, te=0.717809\n",
      "\n",
      "Perform cross-validation for lambda=0.0000 and degree=14\n",
      "Loss for lambda=0.0000 and degree=14 : tr=0.714729, te=0.717808\n",
      "\n",
      "Perform cross-validation for lambda=0.0000 and degree=14\n",
      "Loss for lambda=0.0000 and degree=14 : tr=0.714737, te=0.717811\n",
      "\n",
      "Perform cross-validation for lambda=0.0000 and degree=14\n",
      "Loss for lambda=0.0000 and degree=14 : tr=0.714732, te=0.717806\n",
      "\n",
      "Perform cross-validation for lambda=0.0000 and degree=14\n",
      "Loss for lambda=0.0000 and degree=14 : tr=0.714734, te=0.717807\n",
      "\n",
      "Perform cross-validation for lambda=0.0000 and degree=14\n",
      "Loss for lambda=0.0000 and degree=14 : tr=0.714741, te=0.717790\n",
      "\n",
      "Perform cross-validation for lambda=0.0000 and degree=14\n",
      "Loss for lambda=0.0000 and degree=14 : tr=0.714747, te=0.717766\n",
      "\n",
      "Perform cross-validation for lambda=0.0000 and degree=14\n",
      "Loss for lambda=0.0000 and degree=14 : tr=0.714795, te=0.717722\n",
      "\n",
      "Perform cross-validation for lambda=0.0001 and degree=14\n",
      "Loss for lambda=0.0001 and degree=14 : tr=0.714977, te=0.717732\n",
      "\n",
      "Perform cross-validation for lambda=0.0006 and degree=14\n",
      "Loss for lambda=0.0006 and degree=14 : tr=0.715444, te=0.717876\n",
      "\n",
      "Perform cross-validation for lambda=0.0072 and degree=14\n",
      "Loss for lambda=0.0072 and degree=14 : tr=0.717840, te=0.719744\n",
      "\n",
      "Perform cross-validation for lambda=0.0848 and degree=14\n",
      "Loss for lambda=0.0848 and degree=14 : tr=0.727683, te=0.728946\n",
      "\n",
      "Perform cross-validation for lambda=1.0000 and degree=14\n",
      "Loss for lambda=1.0000 and degree=14 : tr=0.758632, te=0.759332\n",
      "\n",
      "Perform cross-validation for lambda=0.0000 and degree=15\n",
      "Loss for lambda=0.0000 and degree=15 : tr=0.714678, te=0.717837\n",
      "\n",
      "Perform cross-validation for lambda=0.0000 and degree=15\n",
      "Loss for lambda=0.0000 and degree=15 : tr=0.722188, te=0.725069\n",
      "\n",
      "Perform cross-validation for lambda=0.0000 and degree=15\n",
      "Loss for lambda=0.0000 and degree=15 : tr=0.714764, te=0.717901\n",
      "\n",
      "Perform cross-validation for lambda=0.0000 and degree=15\n",
      "Loss for lambda=0.0000 and degree=15 : tr=0.714827, te=0.717985\n",
      "\n",
      "Perform cross-validation for lambda=0.0000 and degree=15\n",
      "Loss for lambda=0.0000 and degree=15 : tr=0.714712, te=0.717827\n",
      "\n",
      "Perform cross-validation for lambda=0.0000 and degree=15\n",
      "Loss for lambda=0.0000 and degree=15 : tr=0.715235, te=0.718290\n",
      "\n",
      "Perform cross-validation for lambda=0.0000 and degree=15\n",
      "Loss for lambda=0.0000 and degree=15 : tr=0.714681, te=0.717831\n",
      "\n",
      "Perform cross-validation for lambda=0.0000 and degree=15\n",
      "Loss for lambda=0.0000 and degree=15 : tr=0.714688, te=0.717830\n",
      "\n",
      "Perform cross-validation for lambda=0.0000 and degree=15\n",
      "Loss for lambda=0.0000 and degree=15 : tr=0.714694, te=0.717760\n",
      "\n",
      "Perform cross-validation for lambda=0.0000 and degree=15\n",
      "Loss for lambda=0.0000 and degree=15 : tr=0.714747, te=0.717719\n",
      "\n",
      "Perform cross-validation for lambda=0.0001 and degree=15\n",
      "Loss for lambda=0.0001 and degree=15 : tr=0.714931, te=0.717723\n",
      "\n",
      "Perform cross-validation for lambda=0.0006 and degree=15\n",
      "Loss for lambda=0.0006 and degree=15 : tr=0.715408, te=0.717873\n",
      "\n",
      "Perform cross-validation for lambda=0.0072 and degree=15\n",
      "Loss for lambda=0.0072 and degree=15 : tr=0.717810, te=0.719756\n",
      "\n",
      "Perform cross-validation for lambda=0.0848 and degree=15\n",
      "Loss for lambda=0.0848 and degree=15 : tr=0.727488, te=0.728791\n",
      "\n",
      "Perform cross-validation for lambda=1.0000 and degree=15\n",
      "Loss for lambda=1.0000 and degree=15 : tr=0.758263, te=0.758996\n",
      "\n"
     ]
    },
    {
     "data": {
      "image/png": "[encoded data removed]",
      "text/plain": [
       "<Figure size 432x288 with 2 Axes>"
      ]
     },
     "metadata": {
      "needs_background": "light"
     },
     "output_type": "display_data"
    },
    {
     "name": "stdout",
     "output_type": "stream",
     "text": [
      "Accuracy of ridge_regression on the local test set : 0.8262\n",
      "F1-score of ridge_regression on the local test set : 0.7369\n"
     ]
    }
   ],
   "source": [
    "acc_local_test, f1_local_test, w_best, best_degree, best_lambda = run_experiment(y, x_cleaned_copy, 'ridge_regression', 1, 0.8, cols_angle, max_degree=15)"
   ]
  },
  {
   "cell_type": "code",
   "execution_count": 61,
   "id": "9a8d5767-cec1-4beb-ada3-28d36233ad2f",
   "metadata": {},
   "outputs": [
    {
     "data": {
      "text/plain": [
       "(10, 4.393970560760786e-06)"
      ]
     },
     "execution_count": 61,
     "metadata": {},
     "output_type": "execute_result"
    }
   ],
   "source": [
    "best_degree, best_lambda"
   ]
  },
  {
   "cell_type": "code",
   "execution_count": 62,
   "id": "cda11fec",
   "metadata": {},
   "outputs": [
    {
     "data": {
      "text/plain": [
       "(704,)"
      ]
     },
     "execution_count": 62,
     "metadata": {},
     "output_type": "execute_result"
    }
   ],
   "source": [
    "w_best.shape"
   ]
  },
  {
   "cell_type": "code",
   "execution_count": 25,
   "id": "d29f3276",
   "metadata": {},
   "outputs": [
    {
     "data": {
      "text/plain": [
       "(250000, 23)"
      ]
     },
     "execution_count": 25,
     "metadata": {},
     "output_type": "execute_result"
    }
   ],
   "source": [
    "x_cleaned_copy.shape"
   ]
  },
  {
   "cell_type": "code",
   "execution_count": 53,
   "id": "b4a6700b-4fa6-4b29-943a-3a5824580ae8",
   "metadata": {},
   "outputs": [
    {
     "name": "stdout",
     "output_type": "stream",
     "text": [
      "End of processing + expansion\n",
      "Beginning training\n",
      "Beginning cross-validation\n",
      "Perform cross-validation for lambda=0.0000 and degree=10\n",
      "Loss for lambda=0.0000 and degree=10 : tr=0.715900, te=0.718102\n",
      "\n",
      "Perform cross-validation for lambda=0.0000 and degree=10\n",
      "Loss for lambda=0.0000 and degree=10 : tr=0.715907, te=0.718099\n",
      "\n",
      "Perform cross-validation for lambda=0.0000 and degree=10\n",
      "Loss for lambda=0.0000 and degree=10 : tr=0.715908, te=0.718098\n",
      "\n",
      "Perform cross-validation for lambda=0.0000 and degree=10\n",
      "Loss for lambda=0.0000 and degree=10 : tr=0.715909, te=0.718096\n",
      "\n",
      "Perform cross-validation for lambda=0.0000 and degree=10\n",
      "Loss for lambda=0.0000 and degree=10 : tr=0.715909, te=0.718095\n",
      "\n",
      "Perform cross-validation for lambda=0.0000 and degree=10\n",
      "Loss for lambda=0.0000 and degree=10 : tr=0.715911, te=0.718094\n",
      "\n",
      "Perform cross-validation for lambda=0.0000 and degree=10\n",
      "Loss for lambda=0.0000 and degree=10 : tr=0.715912, te=0.718094\n",
      "\n",
      "Perform cross-validation for lambda=0.0000 and degree=10\n",
      "Loss for lambda=0.0000 and degree=10 : tr=0.715912, te=0.718093\n",
      "\n",
      "Perform cross-validation for lambda=0.0000 and degree=10\n",
      "Loss for lambda=0.0000 and degree=10 : tr=0.715913, te=0.718087\n",
      "\n",
      "Perform cross-validation for lambda=0.0000 and degree=10\n",
      "Loss for lambda=0.0000 and degree=10 : tr=0.715918, te=0.718075\n",
      "\n",
      "Perform cross-validation for lambda=0.0001 and degree=10\n",
      "Loss for lambda=0.0001 and degree=10 : tr=0.715976, te=0.718072\n",
      "\n",
      "Perform cross-validation for lambda=0.0006 and degree=10\n",
      "Loss for lambda=0.0006 and degree=10 : tr=0.716334, te=0.718278\n",
      "\n",
      "Perform cross-validation for lambda=0.0072 and degree=10\n",
      "Loss for lambda=0.0072 and degree=10 : tr=0.718397, te=0.720013\n",
      "\n",
      "Perform cross-validation for lambda=0.0848 and degree=10\n",
      "Loss for lambda=0.0848 and degree=10 : tr=0.728768, te=0.729835\n",
      "\n",
      "Perform cross-validation for lambda=1.0000 and degree=10\n",
      "Loss for lambda=1.0000 and degree=10 : tr=0.760803, te=0.761354\n",
      "\n",
      "Perform cross-validation for lambda=0.0000 and degree=11\n",
      "Loss for lambda=0.0000 and degree=11 : tr=0.715849, te=0.718142\n",
      "\n",
      "Perform cross-validation for lambda=0.0000 and degree=11\n",
      "Loss for lambda=0.0000 and degree=11 : tr=0.715849, te=0.718140\n",
      "\n",
      "Perform cross-validation for lambda=0.0000 and degree=11\n",
      "Loss for lambda=0.0000 and degree=11 : tr=0.715850, te=0.718138\n",
      "\n",
      "Perform cross-validation for lambda=0.0000 and degree=11\n",
      "Loss for lambda=0.0000 and degree=11 : tr=0.715850, te=0.718136\n",
      "\n",
      "Perform cross-validation for lambda=0.0000 and degree=11\n",
      "Loss for lambda=0.0000 and degree=11 : tr=0.715850, te=0.718135\n",
      "\n",
      "Perform cross-validation for lambda=0.0000 and degree=11\n",
      "Loss for lambda=0.0000 and degree=11 : tr=0.715851, te=0.718134\n",
      "\n",
      "Perform cross-validation for lambda=0.0000 and degree=11\n",
      "Loss for lambda=0.0000 and degree=11 : tr=0.715853, te=0.718134\n",
      "\n",
      "Perform cross-validation for lambda=0.0000 and degree=11\n",
      "Loss for lambda=0.0000 and degree=11 : tr=0.715854, te=0.718131\n",
      "\n",
      "Perform cross-validation for lambda=0.0000 and degree=11\n",
      "Loss for lambda=0.0000 and degree=11 : tr=0.715859, te=0.718127\n",
      "\n",
      "Perform cross-validation for lambda=0.0000 and degree=11\n",
      "Loss for lambda=0.0000 and degree=11 : tr=0.715867, te=0.718102\n",
      "\n",
      "Perform cross-validation for lambda=0.0001 and degree=11\n",
      "Loss for lambda=0.0001 and degree=11 : tr=0.715930, te=0.718078\n",
      "\n",
      "Perform cross-validation for lambda=0.0006 and degree=11\n",
      "Loss for lambda=0.0006 and degree=11 : tr=0.716262, te=0.718249\n",
      "\n",
      "Perform cross-validation for lambda=0.0072 and degree=11\n",
      "Loss for lambda=0.0072 and degree=11 : tr=0.718446, te=0.720101\n",
      "\n",
      "Perform cross-validation for lambda=0.0848 and degree=11\n",
      "Loss for lambda=0.0848 and degree=11 : tr=0.727967, te=0.729067\n",
      "\n",
      "Perform cross-validation for lambda=1.0000 and degree=11\n",
      "Loss for lambda=1.0000 and degree=11 : tr=0.760659, te=0.761237\n",
      "\n",
      "Perform cross-validation for lambda=0.0000 and degree=12\n",
      "Loss for lambda=0.0000 and degree=12 : tr=0.715786, te=0.718163\n",
      "\n",
      "Perform cross-validation for lambda=0.0000 and degree=12\n",
      "Loss for lambda=0.0000 and degree=12 : tr=0.715787, te=0.718163\n",
      "\n",
      "Perform cross-validation for lambda=0.0000 and degree=12\n",
      "Loss for lambda=0.0000 and degree=12 : tr=0.715788, te=0.718161\n",
      "\n",
      "Perform cross-validation for lambda=0.0000 and degree=12\n",
      "Loss for lambda=0.0000 and degree=12 : tr=0.715788, te=0.718159\n",
      "\n",
      "Perform cross-validation for lambda=0.0000 and degree=12\n",
      "Loss for lambda=0.0000 and degree=12 : tr=0.715788, te=0.718157\n",
      "\n",
      "Perform cross-validation for lambda=0.0000 and degree=12\n",
      "Loss for lambda=0.0000 and degree=12 : tr=0.715788, te=0.718155\n",
      "\n",
      "Perform cross-validation for lambda=0.0000 and degree=12\n",
      "Loss for lambda=0.0000 and degree=12 : tr=0.715790, te=0.718153\n",
      "\n",
      "Perform cross-validation for lambda=0.0000 and degree=12\n",
      "Loss for lambda=0.0000 and degree=12 : tr=0.715792, te=0.718149\n",
      "\n",
      "Perform cross-validation for lambda=0.0000 and degree=12\n",
      "Loss for lambda=0.0000 and degree=12 : tr=0.715797, te=0.718142\n",
      "\n",
      "Perform cross-validation for lambda=0.0000 and degree=12\n",
      "Loss for lambda=0.0000 and degree=12 : tr=0.715808, te=0.718109\n",
      "\n",
      "Perform cross-validation for lambda=0.0001 and degree=12\n",
      "Loss for lambda=0.0001 and degree=12 : tr=0.715861, te=0.718063\n",
      "\n",
      "Perform cross-validation for lambda=0.0006 and degree=12\n",
      "Loss for lambda=0.0006 and degree=12 : tr=0.716197, te=0.718226\n",
      "\n",
      "Perform cross-validation for lambda=0.0072 and degree=12\n",
      "Loss for lambda=0.0072 and degree=12 : tr=0.718348, te=0.720038\n",
      "\n",
      "Perform cross-validation for lambda=0.0848 and degree=12\n",
      "Loss for lambda=0.0848 and degree=12 : tr=0.727848, te=0.728981\n",
      "\n",
      "Perform cross-validation for lambda=1.0000 and degree=12\n",
      "Loss for lambda=1.0000 and degree=12 : tr=0.760272, te=0.760882\n",
      "\n",
      "Perform cross-validation for lambda=0.0000 and degree=13\n",
      "Loss for lambda=0.0000 and degree=13 : tr=0.715707, te=0.718180\n",
      "\n",
      "Perform cross-validation for lambda=0.0000 and degree=13\n",
      "Loss for lambda=0.0000 and degree=13 : tr=0.715708, te=0.718183\n",
      "\n",
      "Perform cross-validation for lambda=0.0000 and degree=13\n",
      "Loss for lambda=0.0000 and degree=13 : tr=0.715708, te=0.718178\n",
      "\n",
      "Perform cross-validation for lambda=0.0000 and degree=13\n",
      "Loss for lambda=0.0000 and degree=13 : tr=0.715709, te=0.718175\n",
      "\n",
      "Perform cross-validation for lambda=0.0000 and degree=13\n",
      "Loss for lambda=0.0000 and degree=13 : tr=0.715709, te=0.718173\n",
      "\n",
      "Perform cross-validation for lambda=0.0000 and degree=13\n",
      "Loss for lambda=0.0000 and degree=13 : tr=0.715709, te=0.718172\n",
      "\n",
      "Perform cross-validation for lambda=0.0000 and degree=13\n",
      "Loss for lambda=0.0000 and degree=13 : tr=0.715710, te=0.718167\n",
      "\n",
      "Perform cross-validation for lambda=0.0000 and degree=13\n",
      "Loss for lambda=0.0000 and degree=13 : tr=0.715713, te=0.718160\n",
      "\n",
      "Perform cross-validation for lambda=0.0000 and degree=13\n",
      "Loss for lambda=0.0000 and degree=13 : tr=0.715717, te=0.718142\n",
      "\n",
      "Perform cross-validation for lambda=0.0000 and degree=13\n",
      "Loss for lambda=0.0000 and degree=13 : tr=0.715740, te=0.718101\n",
      "\n",
      "Perform cross-validation for lambda=0.0001 and degree=13\n",
      "Loss for lambda=0.0001 and degree=13 : tr=0.715799, te=0.718054\n",
      "\n",
      "Perform cross-validation for lambda=0.0006 and degree=13\n",
      "Loss for lambda=0.0006 and degree=13 : tr=0.716124, te=0.718199\n",
      "\n",
      "Perform cross-validation for lambda=0.0072 and degree=13\n",
      "Loss for lambda=0.0072 and degree=13 : tr=0.718260, te=0.719988\n",
      "\n",
      "Perform cross-validation for lambda=0.0848 and degree=13\n",
      "Loss for lambda=0.0848 and degree=13 : tr=0.727985, te=0.729150\n",
      "\n",
      "Perform cross-validation for lambda=1.0000 and degree=13\n",
      "Loss for lambda=1.0000 and degree=13 : tr=0.759561, te=0.760194\n",
      "\n",
      "Perform cross-validation for lambda=0.0000 and degree=14\n",
      "Loss for lambda=0.0000 and degree=14 : tr=0.715619, te=0.718162\n",
      "\n",
      "Perform cross-validation for lambda=0.0000 and degree=14\n",
      "Loss for lambda=0.0000 and degree=14 : tr=0.715623, te=0.718171\n",
      "\n",
      "Perform cross-validation for lambda=0.0000 and degree=14\n",
      "Loss for lambda=0.0000 and degree=14 : tr=0.715622, te=0.718161\n",
      "\n",
      "Perform cross-validation for lambda=0.0000 and degree=14\n",
      "Loss for lambda=0.0000 and degree=14 : tr=0.715622, te=0.718160\n",
      "\n",
      "Perform cross-validation for lambda=0.0000 and degree=14\n",
      "Loss for lambda=0.0000 and degree=14 : tr=0.715622, te=0.718157\n",
      "\n",
      "Perform cross-validation for lambda=0.0000 and degree=14\n",
      "Loss for lambda=0.0000 and degree=14 : tr=0.715622, te=0.718155\n",
      "\n",
      "Perform cross-validation for lambda=0.0000 and degree=14\n",
      "Loss for lambda=0.0000 and degree=14 : tr=0.715623, te=0.718150\n",
      "\n",
      "Perform cross-validation for lambda=0.0000 and degree=14\n",
      "Loss for lambda=0.0000 and degree=14 : tr=0.715624, te=0.718140\n",
      "\n",
      "Perform cross-validation for lambda=0.0000 and degree=14\n",
      "Loss for lambda=0.0000 and degree=14 : tr=0.715636, te=0.718116\n",
      "\n",
      "Perform cross-validation for lambda=0.0000 and degree=14\n",
      "Loss for lambda=0.0000 and degree=14 : tr=0.715675, te=0.718078\n",
      "\n",
      "Perform cross-validation for lambda=0.0001 and degree=14\n",
      "Loss for lambda=0.0001 and degree=14 : tr=0.715763, te=0.718056\n",
      "\n",
      "Perform cross-validation for lambda=0.0006 and degree=14\n",
      "Loss for lambda=0.0006 and degree=14 : tr=0.716070, te=0.718186\n",
      "\n",
      "Perform cross-validation for lambda=0.0072 and degree=14\n",
      "Loss for lambda=0.0072 and degree=14 : tr=0.718189, te=0.719954\n",
      "\n",
      "Perform cross-validation for lambda=0.0848 and degree=14\n",
      "Loss for lambda=0.0848 and degree=14 : tr=0.727835, te=0.729034\n",
      "\n",
      "Perform cross-validation for lambda=1.0000 and degree=14\n",
      "Loss for lambda=1.0000 and degree=14 : tr=0.759111, te=0.759765\n",
      "\n",
      "Perform cross-validation for lambda=0.0000 and degree=15\n",
      "Loss for lambda=0.0000 and degree=15 : tr=0.715573, te=0.718182\n",
      "\n",
      "Perform cross-validation for lambda=0.0000 and degree=15\n",
      "Loss for lambda=0.0000 and degree=15 : tr=0.719176, te=0.721840\n",
      "\n",
      "Perform cross-validation for lambda=0.0000 and degree=15\n",
      "Loss for lambda=0.0000 and degree=15 : tr=0.715555, te=0.718164\n",
      "\n",
      "Perform cross-validation for lambda=0.0000 and degree=15\n",
      "Loss for lambda=0.0000 and degree=15 : tr=0.715568, te=0.718186\n",
      "\n",
      "Perform cross-validation for lambda=0.0000 and degree=15\n",
      "Loss for lambda=0.0000 and degree=15 : tr=0.715957, te=0.718606\n",
      "\n",
      "Perform cross-validation for lambda=0.0000 and degree=15\n",
      "Loss for lambda=0.0000 and degree=15 : tr=0.719168, te=0.721809\n",
      "\n",
      "Perform cross-validation for lambda=0.0000 and degree=15\n",
      "Loss for lambda=0.0000 and degree=15 : tr=0.715561, te=0.718160\n",
      "\n",
      "Perform cross-validation for lambda=0.0000 and degree=15\n",
      "Loss for lambda=0.0000 and degree=15 : tr=0.715559, te=0.718143\n",
      "\n",
      "Perform cross-validation for lambda=0.0000 and degree=15\n",
      "Loss for lambda=0.0000 and degree=15 : tr=0.715583, te=0.718107\n",
      "\n",
      "Perform cross-validation for lambda=0.0000 and degree=15\n",
      "Loss for lambda=0.0000 and degree=15 : tr=0.715627, te=0.718072\n",
      "\n",
      "Perform cross-validation for lambda=0.0001 and degree=15\n",
      "Loss for lambda=0.0001 and degree=15 : tr=0.715718, te=0.718045\n",
      "\n",
      "Perform cross-validation for lambda=0.0006 and degree=15\n",
      "Loss for lambda=0.0006 and degree=15 : tr=0.716034, te=0.718182\n",
      "\n",
      "Perform cross-validation for lambda=0.0072 and degree=15\n",
      "Loss for lambda=0.0072 and degree=15 : tr=0.718159, te=0.719966\n",
      "\n",
      "Perform cross-validation for lambda=0.0848 and degree=15\n",
      "Loss for lambda=0.0848 and degree=15 : tr=0.727639, te=0.728877\n",
      "\n",
      "Perform cross-validation for lambda=1.0000 and degree=15\n",
      "Loss for lambda=1.0000 and degree=15 : tr=0.758738, te=0.759425\n",
      "\n"
     ]
    },
    {
     "data": {
      "image/png": "[encoded data removed]",
      "text/plain": [
       "<Figure size 432x288 with 2 Axes>"
      ]
     },
     "metadata": {
      "needs_background": "light"
     },
     "output_type": "display_data"
    },
    {
     "name": "stdout",
     "output_type": "stream",
     "text": [
      "Accuracy of ridge_regression on the local test set : 0.8258\n",
      "F1-score of ridge_regression on the local test set : 0.7361\n"
     ]
    }
   ],
   "source": [
    "acc_local_test, f1_local_test, w_best, best_degree, best_lambda = run_experiment(y, np.delete(x_cleaned_copy,22,axis=1), 'ridge_regression', 1, 0.8, cols_angle, max_degree=15)"
   ]
  },
  {
   "cell_type": "code",
   "execution_count": null,
   "id": "36468ee3-1cfc-4084-9f0a-b7163b58d54c",
   "metadata": {},
   "outputs": [],
   "source": [
    "best_degree, best_lambda\n",
    "w_best.shape"
   ]
  },
  {
   "cell_type": "code",
   "execution_count": 63,
   "id": "338ca900-f220-46cb-9729-4c3234b0cb0e",
   "metadata": {},
   "outputs": [
    {
     "name": "stdout",
     "output_type": "stream",
     "text": [
      "==> Loading and preprocessing training data...\n",
      "\n",
      "Number of values outside [-pi;pi[ (col 11): 9\n",
      "Number of values outside [-pi;pi[ (col 14): 11\n",
      "Number of values outside [-pi;pi[ (col 16): 9\n",
      "Number of values outside [-pi;pi[ (col 21): 3\n",
      "\n",
      "==> Training model...\n",
      "\n",
      "==> Loading and preprocessing test data...\n",
      "\n",
      "Number of values outside [-pi;pi[ (col 11): 19\n",
      "Number of values outside [-pi;pi[ (col 14): 17\n",
      "Number of values outside [-pi;pi[ (col 16): 22\n",
      "Number of values outside [-pi;pi[ (col 21): 9\n",
      "(704,)\n",
      "\n",
      "==> Predicting labels for the test set...\n",
      "\n",
      "==> Creating submission file...\n",
      "\n",
      "==> Submission files saved.\n"
     ]
    }
   ],
   "source": [
    "from run import main\n",
    "main()"
   ]
  },
  {
   "cell_type": "code",
   "execution_count": null,
   "id": "18dc0ec9",
   "metadata": {},
   "outputs": [],
   "source": []
  }
 ],
 "metadata": {
  "kernelspec": {
   "display_name": "Python 3 (ipykernel)",
   "language": "python",
   "name": "python3"
  },
  "language_info": {
   "codemirror_mode": {
    "name": "ipython",
    "version": 3
   },
   "file_extension": ".py",
   "mimetype": "text/x-python",
   "name": "python",
   "nbconvert_exporter": "python",
   "pygments_lexer": "ipython3",
   "version": "3.8.11"
  }
 },
 "nbformat": 4,
 "nbformat_minor": 5
}
