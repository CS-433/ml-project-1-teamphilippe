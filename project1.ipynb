{
 "cells": [
  {
   "cell_type": "code",
   "execution_count": 8,
   "id": "ecf79ffe",
   "metadata": {},
   "outputs": [
    {
     "name": "stdout",
     "output_type": "stream",
     "text": [
      "The autoreload extension is already loaded. To reload it, use:\n",
      "  %reload_ext autoreload\n"
     ]
    }
   ],
   "source": [
    "%load_ext autoreload\n",
    "%autoreload 2\n",
    "from experiment.proj1_helpers import *\n",
    "from implementations import * \n",
    "from experiment.cleaning import *\n",
    "from experiment.cross_validation import *\n",
    "from experiment.simulation import *\n",
    "from experiment.visualisation import *"
   ]
  },
  {
   "cell_type": "code",
   "execution_count": 9,
   "id": "794ba5c2",
   "metadata": {},
   "outputs": [],
   "source": [
    "data_path = \"data/train.csv\""
   ]
  },
  {
   "cell_type": "code",
   "execution_count": 10,
   "id": "4ea212cf",
   "metadata": {},
   "outputs": [],
   "source": [
    "y, x, ids = load_csv_data(data_path, sub_sample=False)"
   ]
  },
  {
   "cell_type": "markdown",
   "id": "85a78569",
   "metadata": {},
   "source": [
    "## Exploratory Data Analysis\n",
    "\n",
    "All features are numeric. The number of jets is discrete."
   ]
  },
  {
   "cell_type": "markdown",
   "id": "b7d5c377",
   "metadata": {},
   "source": [
    "#### Distribution of the features\n",
    "Let's look at the distribution of some of the features."
   ]
  },
  {
   "cell_type": "code",
   "execution_count": 11,
   "id": "56babe48-6281-43aa-8050-8381e2c7cf10",
   "metadata": {},
   "outputs": [
    {
     "data": {
      "image/png": "[encoded data removed]",
      "text/plain": [
       "<Figure size 1080x720 with 4 Axes>"
      ]
     },
     "metadata": {
      "needs_background": "light"
     },
     "output_type": "display_data"
    }
   ],
   "source": [
    "quad_histograms(x,23,3,18,22)"
   ]
  },
  {
   "cell_type": "markdown",
   "id": "2bdd6097",
   "metadata": {},
   "source": [
    "We can see that some features clearly have default values to -999, some seem to have extreme outliers (e.g. feature 3). We can also check that feature index 22 only has non negative integer values."
   ]
  },
  {
   "cell_type": "markdown",
   "id": "acfbef51",
   "metadata": {},
   "source": [
    "### Data cleaning"
   ]
  },
  {
   "cell_type": "code",
   "execution_count": 12,
   "id": "f47ba6b9",
   "metadata": {},
   "outputs": [
    {
     "name": "stdout",
     "output_type": "stream",
     "text": [
      "Number of negative values : 0\n"
     ]
    }
   ],
   "source": [
    "# Check if the values for the number of jets are non negative integers\n",
    "# Column 22 corresponds to this variable\n",
    "print(f'Number of negative values : {np.sum(x[:, 22] < 0)}')"
   ]
  },
  {
   "cell_type": "code",
   "execution_count": 13,
   "id": "58e5e9b0-14e0-4e2b-8c44-46ca45aefe42",
   "metadata": {},
   "outputs": [
    {
     "data": {
      "text/plain": [
       "0"
      ]
     },
     "execution_count": 13,
     "metadata": {},
     "output_type": "execute_result"
    }
   ],
   "source": [
    "# Check that no value in the table is a nan value\n",
    "np.sum(x==np.nan)"
   ]
  },
  {
   "cell_type": "markdown",
   "id": "bcb9d93a-b72b-4a17-b356-0d01acda098d",
   "metadata": {},
   "source": [
    "We can see that we have 250'000 data points with 30 features each."
   ]
  },
  {
   "cell_type": "code",
   "execution_count": 14,
   "id": "f4142855",
   "metadata": {},
   "outputs": [
    {
     "data": {
      "text/plain": [
       "(250000, 30)"
      ]
     },
     "execution_count": 14,
     "metadata": {},
     "output_type": "execute_result"
    }
   ],
   "source": [
    "x.shape"
   ]
  },
  {
   "cell_type": "code",
   "execution_count": 15,
   "id": "c6f7a3be",
   "metadata": {},
   "outputs": [
    {
     "data": {
      "text/plain": [
       "array([ 38114,      0,      0,      0, 177457, 177457, 177457,      0,\n",
       "            0,      0,      0,      0, 177457,      0,      0,      0,\n",
       "            0,      0,      0,      0,      0,      0,      0,  99913,\n",
       "        99913,  99913, 177457, 177457, 177457,      0])"
      ]
     },
     "execution_count": 15,
     "metadata": {},
     "output_type": "execute_result"
    }
   ],
   "source": [
    "np.sum(x == -999, axis=0)"
   ]
  },
  {
   "cell_type": "markdown",
   "id": "e3d56a50-f2ac-438e-805a-e269a1108441",
   "metadata": {},
   "source": [
    "We can see that some of the features have a very high number of undefined values (-999). We could replace this undefined values by e.g. 0 or the mean of the remaining values but this would result in columns having its majority of entries (e.g. 177'000 / 250'000 $\\approx$ 0.7) at the same value. This would imply that there is not a lot of variance in the feature and therefore this does not give much information about the label we want to predict. So we decided to drop the features where more than half of the rows are at -999."
   ]
  },
  {
   "cell_type": "code",
   "execution_count": 16,
   "id": "6682335b",
   "metadata": {},
   "outputs": [],
   "source": [
    "# We remove the features where more than half of the rows are -999\n",
    "x_cleaned, col_removed_training = remove_col_default_values(x)"
   ]
  },
  {
   "cell_type": "code",
   "execution_count": 17,
   "id": "b96c8720-2a34-4de6-bbb5-0b216c47574b",
   "metadata": {},
   "outputs": [
    {
     "data": {
      "text/plain": [
       "[4, 5, 6, 12, 26, 27, 28]"
      ]
     },
     "execution_count": 17,
     "metadata": {},
     "output_type": "execute_result"
    }
   ],
   "source": [
    "col_removed_training"
   ]
  },
  {
   "cell_type": "markdown",
   "id": "c4b9258b-e1d6-43f2-9ca0-555d3ad3dabf",
   "metadata": {},
   "source": [
    "We can see that with this method we dropped 7 columns."
   ]
  },
  {
   "cell_type": "markdown",
   "id": "0a1cbbae",
   "metadata": {},
   "source": [
    "We also looked if some rows were having more than half of its features set to a default value (i.e. -999). In this case, there were no such rows."
   ]
  },
  {
   "cell_type": "code",
   "execution_count": 24,
   "id": "b70042fd",
   "metadata": {},
   "outputs": [
    {
     "name": "stdout",
     "output_type": "stream",
     "text": [
      "Number of rows : 0\n"
     ]
    }
   ],
   "source": [
    "check_nb_rows_default_features(x_cleaned)"
   ]
  },
  {
   "cell_type": "markdown",
   "id": "c4557b2a",
   "metadata": {},
   "source": [
    "\n",
    "\n",
    "For the remaining default values, we decided to set them to -999. We did this instead of e.g. replacing them by the mean or median of the remaining values because we noted that the models actually performed better."
   ]
  },
  {
   "cell_type": "code",
   "execution_count": 26,
   "id": "f5016b46",
   "metadata": {},
   "outputs": [],
   "source": [
    "x_cleaned, default_values_training = replace_by_default_value(x_cleaned)"
   ]
  },
  {
   "cell_type": "markdown",
   "id": "5dace82d-2e1e-4500-90ae-2be13f3c066d",
   "metadata": {},
   "source": [
    "Some features represents angles, which are supposed to be in the range $[\\pi; -\\pi[$ according to the documentation of the dataset (https://higgsml.lal.in2p3.fr/files/2014/04/documentation_v1.8.pdf). Let's check this is the case."
   ]
  },
  {
   "cell_type": "code",
   "execution_count": 28,
   "id": "cd264722-c052-4b62-8d55-921ae4558989",
   "metadata": {},
   "outputs": [
    {
     "name": "stdout",
     "output_type": "stream",
     "text": [
      "Number of values outside [-pi;pi[ (col 11): 0\n",
      "Number of values outside [-pi;pi[ (col 14): 0\n",
      "Number of values outside [-pi;pi[ (col 16): 0\n",
      "Number of values outside [-pi;pi[ (col 21): 0\n"
     ]
    }
   ],
   "source": [
    "cols_angle = [11, 14, 16, 21]\n",
    "x_cleaned = check_all_azimuth_angles(x_cleaned, cols_angle)"
   ]
  },
  {
   "cell_type": "markdown",
   "id": "77b18a48-80a4-4c92-85f5-435962554641",
   "metadata": {},
   "source": [
    "We can see that some of the features have rows with azimuth outside the range. For these features indexes we deciced to put the non-valid values back in the $[-\\pi; \\pi[$ interval by taking the modulo $2 \\pi$ and subtracting $\\pi$."
   ]
  },
  {
   "cell_type": "code",
   "execution_count": 29,
   "id": "071dbb1c-7f90-4c47-b97b-f893257af4aa",
   "metadata": {},
   "outputs": [
    {
     "data": {
      "image/png": "[encoded data removed]",
      "text/plain": [
       "<Figure size 1080x360 with 2 Axes>"
      ]
     },
     "metadata": {
      "needs_background": "light"
     },
     "output_type": "display_data"
    }
   ],
   "source": [
    "double_histograms(x_cleaned, 3,19)"
   ]
  },
  {
   "cell_type": "markdown",
   "id": "bc94b1a1",
   "metadata": {},
   "source": [
    "#### Removing outliers\n",
    "We can observe that in some features there still seems to be some outliers (e.g. see the histogram above for feature index 3).\n",
    "\n",
    "\n",
    "We will deal with them using a method based on the Inter Quartile Range (IQR). "
   ]
  },
  {
   "cell_type": "code",
   "execution_count": 30,
   "id": "5d5c7fe9",
   "metadata": {},
   "outputs": [],
   "source": [
    "x_cleaned, above_lim_training, below_lim_training = clip_IQR(x_cleaned)"
   ]
  },
  {
   "cell_type": "code",
   "execution_count": 31,
   "id": "6d8c57c2-7714-4df4-8ad2-22091583c638",
   "metadata": {},
   "outputs": [
    {
     "data": {
      "text/plain": [
       "[11, 14, 16, 21]"
      ]
     },
     "execution_count": 31,
     "metadata": {},
     "output_type": "execute_result"
    }
   ],
   "source": [
    "cols_angle"
   ]
  },
  {
   "cell_type": "code",
   "execution_count": 32,
   "id": "72e581d9",
   "metadata": {},
   "outputs": [],
   "source": [
    "x_cleaned_copy = x_cleaned.copy()"
   ]
  },
  {
   "cell_type": "code",
   "execution_count": null,
   "id": "a928ec2b-2ea7-4b7c-9f17-3cca17ffd4e5",
   "metadata": {
    "scrolled": true
   },
   "outputs": [
    {
     "name": "stdout",
     "output_type": "stream",
     "text": [
      "End of processing + expansion\n",
      "Beginning training\n",
      "Beginning cross-validation\n",
      "Perform cross-validation for lambda=0.0000 and degree=2\n",
      "Loss for lambda=0.0000 and degree=2 : tr=0.740456, te=0.742150\n",
      "\n",
      "Perform cross-validation for lambda=0.0000 and degree=2\n",
      "Loss for lambda=0.0000 and degree=2 : tr=0.740456, te=0.742150\n",
      "\n",
      "Perform cross-validation for lambda=0.0000 and degree=2\n",
      "Loss for lambda=0.0000 and degree=2 : tr=0.740456, te=0.742150\n",
      "\n",
      "Perform cross-validation for lambda=0.0000 and degree=2\n",
      "Loss for lambda=0.0000 and degree=2 : tr=0.740456, te=0.742150\n",
      "\n",
      "Perform cross-validation for lambda=0.0000 and degree=2\n",
      "Loss for lambda=0.0000 and degree=2 : tr=0.740456, te=0.742150\n",
      "\n",
      "Perform cross-validation for lambda=0.0000 and degree=2\n",
      "Loss for lambda=0.0000 and degree=2 : tr=0.740456, te=0.742150\n",
      "\n",
      "Perform cross-validation for lambda=0.0000 and degree=2\n",
      "Loss for lambda=0.0000 and degree=2 : tr=0.740456, te=0.742150\n",
      "\n",
      "Perform cross-validation for lambda=0.0000 and degree=2\n",
      "Loss for lambda=0.0000 and degree=2 : tr=0.740456, te=0.742150\n",
      "\n",
      "Perform cross-validation for lambda=0.0000 and degree=2\n",
      "Loss for lambda=0.0000 and degree=2 : tr=0.740456, te=0.742150\n",
      "\n",
      "Perform cross-validation for lambda=0.0000 and degree=2\n",
      "Loss for lambda=0.0000 and degree=2 : tr=0.740456, te=0.742147\n",
      "\n",
      "Perform cross-validation for lambda=0.0001 and degree=2\n",
      "Loss for lambda=0.0001 and degree=2 : tr=0.740462, te=0.742133\n",
      "\n",
      "Perform cross-validation for lambda=0.0006 and degree=2\n",
      "Loss for lambda=0.0006 and degree=2 : tr=0.740552, te=0.742126\n",
      "\n",
      "Perform cross-validation for lambda=0.0072 and degree=2\n",
      "Loss for lambda=0.0072 and degree=2 : tr=0.741865, te=0.743160\n",
      "\n",
      "Perform cross-validation for lambda=0.0848 and degree=2\n",
      "Loss for lambda=0.0848 and degree=2 : tr=0.750092, te=0.750896\n",
      "\n",
      "Perform cross-validation for lambda=1.0000 and degree=2\n",
      "Loss for lambda=1.0000 and degree=2 : tr=0.783235, te=0.783539\n",
      "\n",
      "Perform cross-validation for lambda=0.0000 and degree=3\n",
      "Loss for lambda=0.0000 and degree=3 : tr=0.724524, te=0.726250\n",
      "\n",
      "Perform cross-validation for lambda=0.0000 and degree=3\n",
      "Loss for lambda=0.0000 and degree=3 : tr=0.724524, te=0.726250\n",
      "\n",
      "Perform cross-validation for lambda=0.0000 and degree=3\n",
      "Loss for lambda=0.0000 and degree=3 : tr=0.724524, te=0.726250\n",
      "\n",
      "Perform cross-validation for lambda=0.0000 and degree=3\n",
      "Loss for lambda=0.0000 and degree=3 : tr=0.724524, te=0.726250\n",
      "\n",
      "Perform cross-validation for lambda=0.0000 and degree=3\n",
      "Loss for lambda=0.0000 and degree=3 : tr=0.724524, te=0.726250\n",
      "\n",
      "Perform cross-validation for lambda=0.0000 and degree=3\n",
      "Loss for lambda=0.0000 and degree=3 : tr=0.724524, te=0.726250\n",
      "\n",
      "Perform cross-validation for lambda=0.0000 and degree=3\n",
      "Loss for lambda=0.0000 and degree=3 : tr=0.724524, te=0.726250\n",
      "\n",
      "Perform cross-validation for lambda=0.0000 and degree=3\n",
      "Loss for lambda=0.0000 and degree=3 : tr=0.724524, te=0.726250\n",
      "\n",
      "Perform cross-validation for lambda=0.0000 and degree=3\n",
      "Loss for lambda=0.0000 and degree=3 : tr=0.724524, te=0.726250\n",
      "\n",
      "Perform cross-validation for lambda=0.0000 and degree=3\n",
      "Loss for lambda=0.0000 and degree=3 : tr=0.724524, te=0.726247\n",
      "\n",
      "Perform cross-validation for lambda=0.0001 and degree=3\n",
      "Loss for lambda=0.0001 and degree=3 : tr=0.724528, te=0.726227\n",
      "\n",
      "Perform cross-validation for lambda=0.0006 and degree=3\n",
      "Loss for lambda=0.0006 and degree=3 : tr=0.724630, te=0.726230\n",
      "\n",
      "Perform cross-validation for lambda=0.0072 and degree=3\n",
      "Loss for lambda=0.0072 and degree=3 : tr=0.725864, te=0.727194\n",
      "\n",
      "Perform cross-validation for lambda=0.0848 and degree=3\n",
      "Loss for lambda=0.0848 and degree=3 : tr=0.734728, te=0.735565\n",
      "\n",
      "Perform cross-validation for lambda=1.0000 and degree=3\n",
      "Loss for lambda=1.0000 and degree=3 : tr=0.775646, te=0.775978\n",
      "\n",
      "Perform cross-validation for lambda=0.0000 and degree=4\n",
      "Loss for lambda=0.0000 and degree=4 : tr=0.718886, te=0.720675\n",
      "\n",
      "Perform cross-validation for lambda=0.0000 and degree=4\n",
      "Loss for lambda=0.0000 and degree=4 : tr=0.718886, te=0.720675\n",
      "\n",
      "Perform cross-validation for lambda=0.0000 and degree=4\n",
      "Loss for lambda=0.0000 and degree=4 : tr=0.718886, te=0.720675\n",
      "\n",
      "Perform cross-validation for lambda=0.0000 and degree=4\n",
      "Loss for lambda=0.0000 and degree=4 : tr=0.718886, te=0.720675\n",
      "\n",
      "Perform cross-validation for lambda=0.0000 and degree=4\n",
      "Loss for lambda=0.0000 and degree=4 : tr=0.718886, te=0.720675\n",
      "\n",
      "Perform cross-validation for lambda=0.0000 and degree=4\n",
      "Loss for lambda=0.0000 and degree=4 : tr=0.718886, te=0.720675\n",
      "\n",
      "Perform cross-validation for lambda=0.0000 and degree=4\n",
      "Loss for lambda=0.0000 and degree=4 : tr=0.718886, te=0.720675\n",
      "\n",
      "Perform cross-validation for lambda=0.0000 and degree=4\n",
      "Loss for lambda=0.0000 and degree=4 : tr=0.718886, te=0.720673\n",
      "\n",
      "Perform cross-validation for lambda=0.0000 and degree=4\n",
      "Loss for lambda=0.0000 and degree=4 : tr=0.718890, te=0.720671\n",
      "\n",
      "Perform cross-validation for lambda=0.0000 and degree=4\n",
      "Loss for lambda=0.0000 and degree=4 : tr=0.718894, te=0.720670\n",
      "\n",
      "Perform cross-validation for lambda=0.0001 and degree=4\n",
      "Loss for lambda=0.0001 and degree=4 : tr=0.718900, te=0.720655\n",
      "\n",
      "Perform cross-validation for lambda=0.0006 and degree=4\n",
      "Loss for lambda=0.0006 and degree=4 : tr=0.719041, te=0.720704\n",
      "\n",
      "Perform cross-validation for lambda=0.0072 and degree=4\n",
      "Loss for lambda=0.0072 and degree=4 : tr=0.720677, te=0.722063\n",
      "\n",
      "Perform cross-validation for lambda=0.0848 and degree=4\n",
      "Loss for lambda=0.0848 and degree=4 : tr=0.731185, te=0.732060\n",
      "\n",
      "Perform cross-validation for lambda=1.0000 and degree=4\n",
      "Loss for lambda=1.0000 and degree=4 : tr=0.771389, te=0.771761\n",
      "\n",
      "Perform cross-validation for lambda=0.0000 and degree=5\n",
      "Loss for lambda=0.0000 and degree=5 : tr=0.716837, te=0.718715\n",
      "\n",
      "Perform cross-validation for lambda=0.0000 and degree=5\n",
      "Loss for lambda=0.0000 and degree=5 : tr=0.716837, te=0.718715\n",
      "\n",
      "Perform cross-validation for lambda=0.0000 and degree=5\n",
      "Loss for lambda=0.0000 and degree=5 : tr=0.716837, te=0.718715\n",
      "\n",
      "Perform cross-validation for lambda=0.0000 and degree=5\n",
      "Loss for lambda=0.0000 and degree=5 : tr=0.716837, te=0.718715\n",
      "\n",
      "Perform cross-validation for lambda=0.0000 and degree=5\n",
      "Loss for lambda=0.0000 and degree=5 : tr=0.716837, te=0.718715\n",
      "\n",
      "Perform cross-validation for lambda=0.0000 and degree=5\n",
      "Loss for lambda=0.0000 and degree=5 : tr=0.716837, te=0.718715\n",
      "\n",
      "Perform cross-validation for lambda=0.0000 and degree=5\n",
      "Loss for lambda=0.0000 and degree=5 : tr=0.716837, te=0.718714\n",
      "\n",
      "Perform cross-validation for lambda=0.0000 and degree=5\n",
      "Loss for lambda=0.0000 and degree=5 : tr=0.716840, te=0.718706\n",
      "\n",
      "Perform cross-validation for lambda=0.0000 and degree=5\n",
      "Loss for lambda=0.0000 and degree=5 : tr=0.716854, te=0.718701\n",
      "\n",
      "Perform cross-validation for lambda=0.0000 and degree=5\n",
      "Loss for lambda=0.0000 and degree=5 : tr=0.716860, te=0.718700\n",
      "\n",
      "Perform cross-validation for lambda=0.0001 and degree=5\n",
      "Loss for lambda=0.0001 and degree=5 : tr=0.716865, te=0.718687\n",
      "\n",
      "Perform cross-validation for lambda=0.0006 and degree=5\n",
      "Loss for lambda=0.0006 and degree=5 : tr=0.717015, te=0.718745\n",
      "\n",
      "Perform cross-validation for lambda=0.0072 and degree=5\n",
      "Loss for lambda=0.0072 and degree=5 : tr=0.719159, te=0.720595\n",
      "\n",
      "Perform cross-validation for lambda=0.0848 and degree=5\n",
      "Loss for lambda=0.0848 and degree=5 : tr=0.731478, te=0.732388\n",
      "\n",
      "Perform cross-validation for lambda=1.0000 and degree=5\n",
      "Loss for lambda=1.0000 and degree=5 : tr=0.766181, te=0.766581\n",
      "\n",
      "Perform cross-validation for lambda=0.0000 and degree=6\n",
      "Loss for lambda=0.0000 and degree=6 : tr=0.716383, te=0.718350\n",
      "\n",
      "Perform cross-validation for lambda=0.0000 and degree=6\n",
      "Loss for lambda=0.0000 and degree=6 : tr=0.716383, te=0.718350\n",
      "\n",
      "Perform cross-validation for lambda=0.0000 and degree=6\n",
      "Loss for lambda=0.0000 and degree=6 : tr=0.716383, te=0.718350\n",
      "\n",
      "Perform cross-validation for lambda=0.0000 and degree=6\n",
      "Loss for lambda=0.0000 and degree=6 : tr=0.716383, te=0.718348\n",
      "\n",
      "Perform cross-validation for lambda=0.0000 and degree=6\n",
      "Loss for lambda=0.0000 and degree=6 : tr=0.716383, te=0.718342\n",
      "\n",
      "Perform cross-validation for lambda=0.0000 and degree=6\n",
      "Loss for lambda=0.0000 and degree=6 : tr=0.716384, te=0.718337\n",
      "\n",
      "Perform cross-validation for lambda=0.0000 and degree=6\n",
      "Loss for lambda=0.0000 and degree=6 : tr=0.716384, te=0.718335\n",
      "\n",
      "Perform cross-validation for lambda=0.0000 and degree=6\n",
      "Loss for lambda=0.0000 and degree=6 : tr=0.716387, te=0.718330\n",
      "\n",
      "Perform cross-validation for lambda=0.0000 and degree=6\n",
      "Loss for lambda=0.0000 and degree=6 : tr=0.716397, te=0.718327\n",
      "\n",
      "Perform cross-validation for lambda=0.0000 and degree=6\n",
      "Loss for lambda=0.0000 and degree=6 : tr=0.716400, te=0.718325\n",
      "\n",
      "Perform cross-validation for lambda=0.0001 and degree=6\n",
      "Loss for lambda=0.0001 and degree=6 : tr=0.716405, te=0.718308\n",
      "\n",
      "Perform cross-validation for lambda=0.0006 and degree=6\n",
      "Loss for lambda=0.0006 and degree=6 : tr=0.716557, te=0.718354\n",
      "\n",
      "Perform cross-validation for lambda=0.0072 and degree=6\n",
      "Loss for lambda=0.0072 and degree=6 : tr=0.718750, te=0.720224\n",
      "\n",
      "Perform cross-validation for lambda=0.0848 and degree=6\n",
      "Loss for lambda=0.0848 and degree=6 : tr=0.730412, te=0.731353\n",
      "\n",
      "Perform cross-validation for lambda=1.0000 and degree=6\n",
      "Loss for lambda=1.0000 and degree=6 : tr=0.763151, te=0.763579\n",
      "\n",
      "Perform cross-validation for lambda=0.0000 and degree=7\n",
      "Loss for lambda=0.0000 and degree=7 : tr=0.716056, te=0.718117\n",
      "\n",
      "Perform cross-validation for lambda=0.0000 and degree=7\n",
      "Loss for lambda=0.0000 and degree=7 : tr=0.716056, te=0.718117\n",
      "\n",
      "Perform cross-validation for lambda=0.0000 and degree=7\n",
      "Loss for lambda=0.0000 and degree=7 : tr=0.716056, te=0.718117\n",
      "\n",
      "Perform cross-validation for lambda=0.0000 and degree=7\n",
      "Loss for lambda=0.0000 and degree=7 : tr=0.716057, te=0.718113\n",
      "\n",
      "Perform cross-validation for lambda=0.0000 and degree=7\n",
      "Loss for lambda=0.0000 and degree=7 : tr=0.716065, te=0.718105\n",
      "\n",
      "Perform cross-validation for lambda=0.0000 and degree=7\n",
      "Loss for lambda=0.0000 and degree=7 : tr=0.716074, te=0.718102\n",
      "\n",
      "Perform cross-validation for lambda=0.0000 and degree=7\n",
      "Loss for lambda=0.0000 and degree=7 : tr=0.716075, te=0.718102\n",
      "\n",
      "Perform cross-validation for lambda=0.0000 and degree=7\n",
      "Loss for lambda=0.0000 and degree=7 : tr=0.716075, te=0.718102\n",
      "\n",
      "Perform cross-validation for lambda=0.0000 and degree=7\n",
      "Loss for lambda=0.0000 and degree=7 : tr=0.716075, te=0.718101\n",
      "\n",
      "Perform cross-validation for lambda=0.0000 and degree=7\n",
      "Loss for lambda=0.0000 and degree=7 : tr=0.716076, te=0.718098\n",
      "\n",
      "Perform cross-validation for lambda=0.0001 and degree=7\n",
      "Loss for lambda=0.0001 and degree=7 : tr=0.716090, te=0.718087\n",
      "\n",
      "Perform cross-validation for lambda=0.0006 and degree=7\n",
      "Loss for lambda=0.0006 and degree=7 : tr=0.716334, te=0.718203\n",
      "\n",
      "Perform cross-validation for lambda=0.0072 and degree=7\n",
      "Loss for lambda=0.0072 and degree=7 : tr=0.718861, te=0.720380\n",
      "\n",
      "Perform cross-validation for lambda=0.0848 and degree=7\n",
      "Loss for lambda=0.0848 and degree=7 : tr=0.728868, te=0.729845\n",
      "\n",
      "Perform cross-validation for lambda=1.0000 and degree=7\n",
      "Loss for lambda=1.0000 and degree=7 : tr=0.762635, te=0.763096\n",
      "\n",
      "Perform cross-validation for lambda=0.0000 and degree=8\n",
      "Loss for lambda=0.0000 and degree=8 : tr=0.715825, te=0.717981\n",
      "\n",
      "Perform cross-validation for lambda=0.0000 and degree=8\n",
      "Loss for lambda=0.0000 and degree=8 : tr=0.715828, te=0.717978\n",
      "\n",
      "Perform cross-validation for lambda=0.0000 and degree=8\n",
      "Loss for lambda=0.0000 and degree=8 : tr=0.715829, te=0.717977\n",
      "\n",
      "Perform cross-validation for lambda=0.0000 and degree=8\n",
      "Loss for lambda=0.0000 and degree=8 : tr=0.715830, te=0.717976\n",
      "\n",
      "Perform cross-validation for lambda=0.0000 and degree=8\n",
      "Loss for lambda=0.0000 and degree=8 : tr=0.715837, te=0.717974\n",
      "\n",
      "Perform cross-validation for lambda=0.0000 and degree=8\n",
      "Loss for lambda=0.0000 and degree=8 : tr=0.715846, te=0.717975\n",
      "\n",
      "Perform cross-validation for lambda=0.0000 and degree=8\n",
      "Loss for lambda=0.0000 and degree=8 : tr=0.715847, te=0.717976\n",
      "\n",
      "Perform cross-validation for lambda=0.0000 and degree=8\n",
      "Loss for lambda=0.0000 and degree=8 : tr=0.715847, te=0.717976\n",
      "\n",
      "Perform cross-validation for lambda=0.0000 and degree=8\n",
      "Loss for lambda=0.0000 and degree=8 : tr=0.715847, te=0.717975\n",
      "\n",
      "Perform cross-validation for lambda=0.0000 and degree=8\n",
      "Loss for lambda=0.0000 and degree=8 : tr=0.715849, te=0.717969\n",
      "\n",
      "Perform cross-validation for lambda=0.0001 and degree=8\n",
      "Loss for lambda=0.0001 and degree=8 : tr=0.715874, te=0.717957\n",
      "\n",
      "Perform cross-validation for lambda=0.0006 and degree=8\n",
      "Loss for lambda=0.0006 and degree=8 : tr=0.716164, te=0.718092\n",
      "\n",
      "Perform cross-validation for lambda=0.0072 and degree=8\n",
      "Loss for lambda=0.0072 and degree=8 : tr=0.718640, te=0.720205\n",
      "\n",
      "Perform cross-validation for lambda=0.0848 and degree=8\n",
      "Loss for lambda=0.0848 and degree=8 : tr=0.728625, te=0.729639\n",
      "\n",
      "Perform cross-validation for lambda=1.0000 and degree=8\n",
      "Loss for lambda=1.0000 and degree=8 : tr=0.762190, te=0.762686\n",
      "\n",
      "Perform cross-validation for lambda=0.0000 and degree=9\n",
      "Loss for lambda=0.0000 and degree=9 : tr=0.715696, te=0.717939\n",
      "\n",
      "Perform cross-validation for lambda=0.0000 and degree=9\n"
     ]
    }
   ],
   "source": [
    "acc_local_test, f1_local_test, w_best, best_degree, best_lambda = run_experiment(y, x_cleaned_copy, 'ridge_regression', 1, 0.8, cols_angle, max_degree=12)"
   ]
  },
  {
   "cell_type": "code",
   "execution_count": 37,
   "id": "9a8d5767-cec1-4beb-ada3-28d36233ad2f",
   "metadata": {},
   "outputs": [
    {
     "data": {
      "text/plain": [
       "(12, 5.179474679231202e-05)"
      ]
     },
     "execution_count": 37,
     "metadata": {},
     "output_type": "execute_result"
    }
   ],
   "source": [
    "best_degree, best_lambda"
   ]
  },
  {
   "cell_type": "code",
   "execution_count": 39,
   "id": "cda11fec",
   "metadata": {},
   "outputs": [
    {
     "data": {
      "text/plain": [
       "(534,)"
      ]
     },
     "execution_count": 39,
     "metadata": {},
     "output_type": "execute_result"
    }
   ],
   "source": [
    "w_best.shape"
   ]
  },
  {
   "cell_type": "code",
   "execution_count": 25,
   "id": "d29f3276",
   "metadata": {},
   "outputs": [
    {
     "data": {
      "text/plain": [
       "(250000, 23)"
      ]
     },
     "execution_count": 25,
     "metadata": {},
     "output_type": "execute_result"
    }
   ],
   "source": [
    "x_cleaned_copy.shape"
   ]
  },
  {
   "cell_type": "code",
   "execution_count": 26,
   "id": "72c79128",
   "metadata": {
    "scrolled": true
   },
   "outputs": [
    {
     "name": "stdout",
     "output_type": "stream",
     "text": [
      "End of processing + expansion\n",
      "Beginning training\n",
      "Beginning cross-validation\n",
      "Perform cross-validation for lambda=0.0000 and degree=2\n",
      "Loss for lambda=0.0000 and degree=2 : tr=0.742078, te=0.743354\n",
      "\n",
      "Perform cross-validation for lambda=0.0000 and degree=2\n",
      "Loss for lambda=0.0000 and degree=2 : tr=0.742078, te=0.743354\n",
      "\n",
      "Perform cross-validation for lambda=0.0000 and degree=2\n",
      "Loss for lambda=0.0000 and degree=2 : tr=0.742078, te=0.743354\n",
      "\n",
      "Perform cross-validation for lambda=0.0000 and degree=2\n",
      "Loss for lambda=0.0000 and degree=2 : tr=0.742078, te=0.743354\n",
      "\n",
      "Perform cross-validation for lambda=0.0000 and degree=2\n",
      "Loss for lambda=0.0000 and degree=2 : tr=0.742078, te=0.743354\n",
      "\n",
      "Perform cross-validation for lambda=0.0000 and degree=2\n",
      "Loss for lambda=0.0000 and degree=2 : tr=0.742078, te=0.743354\n",
      "\n",
      "Perform cross-validation for lambda=0.0000 and degree=2\n",
      "Loss for lambda=0.0000 and degree=2 : tr=0.742078, te=0.743354\n",
      "\n",
      "Perform cross-validation for lambda=0.0000 and degree=2\n",
      "Loss for lambda=0.0000 and degree=2 : tr=0.742078, te=0.743354\n",
      "\n",
      "Perform cross-validation for lambda=0.0000 and degree=2\n",
      "Loss for lambda=0.0000 and degree=2 : tr=0.742078, te=0.743354\n",
      "\n",
      "Perform cross-validation for lambda=0.0000 and degree=2\n",
      "Loss for lambda=0.0000 and degree=2 : tr=0.742078, te=0.743353\n",
      "\n",
      "Perform cross-validation for lambda=0.0001 and degree=2\n",
      "Loss for lambda=0.0001 and degree=2 : tr=0.742080, te=0.743348\n",
      "\n",
      "Perform cross-validation for lambda=0.0006 and degree=2\n",
      "Loss for lambda=0.0006 and degree=2 : tr=0.742180, te=0.743396\n",
      "\n",
      "Perform cross-validation for lambda=0.0072 and degree=2\n",
      "Loss for lambda=0.0072 and degree=2 : tr=0.743309, te=0.744349\n",
      "\n",
      "Perform cross-validation for lambda=0.0848 and degree=2\n",
      "Loss for lambda=0.0848 and degree=2 : tr=0.752167, te=0.752862\n",
      "\n",
      "Perform cross-validation for lambda=1.0000 and degree=2\n",
      "Loss for lambda=1.0000 and degree=2 : tr=0.799375, te=0.799652\n",
      "\n",
      "Perform cross-validation for lambda=0.0000 and degree=3\n",
      "Loss for lambda=0.0000 and degree=3 : tr=0.737020, te=0.738395\n",
      "\n",
      "Perform cross-validation for lambda=0.0000 and degree=3\n",
      "Loss for lambda=0.0000 and degree=3 : tr=0.737020, te=0.738395\n",
      "\n",
      "Perform cross-validation for lambda=0.0000 and degree=3\n",
      "Loss for lambda=0.0000 and degree=3 : tr=0.737020, te=0.738395\n",
      "\n",
      "Perform cross-validation for lambda=0.0000 and degree=3\n",
      "Loss for lambda=0.0000 and degree=3 : tr=0.737020, te=0.738395\n",
      "\n",
      "Perform cross-validation for lambda=0.0000 and degree=3\n",
      "Loss for lambda=0.0000 and degree=3 : tr=0.737020, te=0.738395\n",
      "\n",
      "Perform cross-validation for lambda=0.0000 and degree=3\n",
      "Loss for lambda=0.0000 and degree=3 : tr=0.737020, te=0.738395\n",
      "\n",
      "Perform cross-validation for lambda=0.0000 and degree=3\n",
      "Loss for lambda=0.0000 and degree=3 : tr=0.737020, te=0.738395\n",
      "\n",
      "Perform cross-validation for lambda=0.0000 and degree=3\n",
      "Loss for lambda=0.0000 and degree=3 : tr=0.737020, te=0.738395\n",
      "\n",
      "Perform cross-validation for lambda=0.0000 and degree=3\n",
      "Loss for lambda=0.0000 and degree=3 : tr=0.737020, te=0.738395\n",
      "\n",
      "Perform cross-validation for lambda=0.0000 and degree=3\n",
      "Loss for lambda=0.0000 and degree=3 : tr=0.737020, te=0.738394\n",
      "\n",
      "Perform cross-validation for lambda=0.0001 and degree=3\n",
      "Loss for lambda=0.0001 and degree=3 : tr=0.737024, te=0.738386\n",
      "\n",
      "Perform cross-validation for lambda=0.0006 and degree=3\n",
      "Loss for lambda=0.0006 and degree=3 : tr=0.737138, te=0.738441\n",
      "\n",
      "Perform cross-validation for lambda=0.0072 and degree=3\n",
      "Loss for lambda=0.0072 and degree=3 : tr=0.738170, te=0.739288\n",
      "\n",
      "Perform cross-validation for lambda=0.0848 and degree=3\n",
      "Loss for lambda=0.0848 and degree=3 : tr=0.745729, te=0.746473\n",
      "\n",
      "Perform cross-validation for lambda=1.0000 and degree=3\n",
      "Loss for lambda=1.0000 and degree=3 : tr=0.789350, te=0.789665\n",
      "\n"
     ]
    },
    {
     "data": {
      "image/png": "[encoded data removed]",
      "text/plain": [
       "<Figure size 432x288 with 2 Axes>"
      ]
     },
     "metadata": {
      "needs_background": "light"
     },
     "output_type": "display_data"
    },
    {
     "name": "stdout",
     "output_type": "stream",
     "text": [
      "Accuracy of ridge_regression on the local test set : 0.8163\n",
      "F1-score of ridge_regression on the local test set : 0.7193\n"
     ]
    }
   ],
   "source": [
    "acc_local_test, f1_local_test, w_best, best_degree, best_lambda = run_experiment(y, x_cleaned_copy, 'ridge_regression', 1, 0.8, cols_angle, max_degree=3)"
   ]
  },
  {
   "cell_type": "code",
   "execution_count": 27,
   "id": "7b91d773",
   "metadata": {},
   "outputs": [
    {
     "data": {
      "text/plain": [
       "(3, 5.179474679231202e-05)"
      ]
     },
     "execution_count": 27,
     "metadata": {},
     "output_type": "execute_result"
    }
   ],
   "source": [
    "best_degree, best_lambda"
   ]
  },
  {
   "cell_type": "code",
   "execution_count": 28,
   "id": "46778928",
   "metadata": {},
   "outputs": [
    {
     "data": {
      "text/plain": [
       "(326,)"
      ]
     },
     "execution_count": 28,
     "metadata": {},
     "output_type": "execute_result"
    }
   ],
   "source": [
    "w_best.shape"
   ]
  },
  {
   "cell_type": "code",
   "execution_count": 36,
   "id": "3801f9d3-41c8-4d40-b85e-d549a424b058",
   "metadata": {},
   "outputs": [],
   "source": [
    "x_cleaned_std, means, stds = standardise(x_cleaned_copy.copy())"
   ]
  },
  {
   "cell_type": "code",
   "execution_count": 37,
   "id": "9d9ded8b-0f68-42bc-b3b6-4b1a79b5079e",
   "metadata": {},
   "outputs": [
    {
     "name": "stdout",
     "output_type": "stream",
     "text": [
      "Number of values outside [-pi;pi[ (col 11): 19\n",
      "Number of values outside [-pi;pi[ (col 14): 17\n",
      "Number of values outside [-pi;pi[ (col 16): 22\n",
      "Number of values outside [-pi;pi[ (col 21): 9\n"
     ]
    }
   ],
   "source": [
    "# load and pre-process test data\n",
    "test_path = 'data/test.csv'\n",
    "x_te_cleaned, ids_test, y_test = process_test_set(test_path, col_removed_training, default_values_training, above_lim_training, below_lim_training, means, stds, cols_angle, best_degree)"
   ]
  },
  {
   "cell_type": "code",
   "execution_count": 38,
   "id": "7fcbf21b",
   "metadata": {},
   "outputs": [],
   "source": [
    "# Predict the lab and output the result in the CSV files\n",
    "#y_test_pred = predict_labels_logistic_regression(w_best, x_te_cleaned)\n",
    "\n",
    "y_test_pred = predict_labels(w_best, x_te_cleaned)\n",
    "create_csv_submission(ids_test, y_test_pred, 'log.csv')"
   ]
  },
  {
   "cell_type": "code",
   "execution_count": 38,
   "id": "338ca900-f220-46cb-9729-4c3234b0cb0e",
   "metadata": {},
   "outputs": [
    {
     "name": "stdout",
     "output_type": "stream",
     "text": [
      "==> Loading and preprocessing training data...\n",
      "\n",
      "Number of values outside [-pi;pi[ (col 11): 9\n",
      "Number of values outside [-pi;pi[ (col 14): 11\n",
      "Number of values outside [-pi;pi[ (col 16): 9\n",
      "Number of values outside [-pi;pi[ (col 21): 3\n",
      "\n",
      "==> Training model...\n",
      "\n",
      "==> Loading and preprocessing test data...\n",
      "\n",
      "Number of values outside [-pi;pi[ (col 11): 19\n",
      "Number of values outside [-pi;pi[ (col 14): 17\n",
      "Number of values outside [-pi;pi[ (col 16): 22\n",
      "Number of values outside [-pi;pi[ (col 21): 9\n",
      "(534,)\n",
      "\n",
      "==> Predicting labels for the test set...\n",
      "\n",
      "==> Creating submission file...\n",
      "\n",
      "==> Submission files saved.\n"
     ]
    }
   ],
   "source": [
    "from run import main\n",
    "main()"
   ]
  },
  {
   "cell_type": "code",
   "execution_count": null,
   "id": "18dc0ec9",
   "metadata": {},
   "outputs": [],
   "source": []
  }
 ],
 "metadata": {
  "kernelspec": {
   "display_name": "Python 3 (ipykernel)",
   "language": "python",
   "name": "python3"
  },
  "language_info": {
   "codemirror_mode": {
    "name": "ipython",
    "version": 3
   },
   "file_extension": ".py",
   "mimetype": "text/x-python",
   "name": "python",
   "nbconvert_exporter": "python",
   "pygments_lexer": "ipython3",
   "version": "3.8.11"
  }
 },
 "nbformat": 4,
 "nbformat_minor": 5
}
