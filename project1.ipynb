{
 "cells": [
  {
   "cell_type": "code",
   "execution_count": 1,
   "id": "ecf79ffe",
   "metadata": {},
   "outputs": [],
   "source": [
    "%load_ext autoreload\n",
    "%autoreload 2\n",
    "from proj1_helpers import *\n",
    "from implementations import * \n",
    "import numpy"
   ]
  },
  {
   "cell_type": "code",
   "execution_count": 2,
   "id": "794ba5c2",
   "metadata": {},
   "outputs": [],
   "source": [
    "data_path = \"data/train.csv\"\n",
    "test_data_path = \"data/test.csv\"\n",
    "ratio_train = 0.8"
   ]
  },
  {
   "cell_type": "code",
   "execution_count": 3,
   "id": "4ea212cf",
   "metadata": {},
   "outputs": [],
   "source": [
    "y, x, ids = load_csv_data(data_path, sub_sample=False)"
   ]
  },
  {
   "cell_type": "code",
   "execution_count": 5,
   "id": "e7ff1422",
   "metadata": {},
   "outputs": [],
   "source": [
    "x_train, y_train, x_test, y_test = split_data(x, y, ratio_train)"
   ]
  },
  {
   "cell_type": "code",
   "execution_count": 6,
   "id": "f41f22ad",
   "metadata": {},
   "outputs": [],
   "source": [
    "# Standardise the two datasets independently\n",
    "tx_train, _, _ = standardize(x_train)\n",
    "tx_test, _, _ = standardize(x_test)"
   ]
  },
  {
   "cell_type": "code",
   "execution_count": 7,
   "id": "fec6dd2d",
   "metadata": {},
   "outputs": [],
   "source": [
    "#SGD parameters\n",
    "initial_w = np.zeros((x.shape[1]))\n",
    "max_iters = 100\n",
    "gamma = 0.05\n",
    "lambda_ = 0.7"
   ]
  },
  {
   "cell_type": "code",
   "execution_count": 8,
   "id": "66488e35",
   "metadata": {},
   "outputs": [
    {
     "name": "stdout",
     "output_type": "stream",
     "text": [
      "CPU times: user 24min 32s, sys: 41.6 s, total: 25min 14s\n",
      "Wall time: 4min 16s\n"
     ]
    }
   ],
   "source": [
    "%time best_lambda, best_gamma = perform_cross_validation(y_train, tx_train, compute_loss_ridge, compute_gradient_ridge_regression , max_iters)"
   ]
  },
  {
   "cell_type": "code",
   "execution_count": 9,
   "id": "1ed7394f",
   "metadata": {},
   "outputs": [],
   "source": [
    "w_cv, loss_cv = stochastic_gradient_descent(y_train, tx_train, initial_w, max_iters, best_gamma, compute_loss_ridge, compute_gradient_ridge_regression, lambda_=best_lambda)"
   ]
  },
  {
   "cell_type": "code",
   "execution_count": 14,
   "id": "e326f035",
   "metadata": {},
   "outputs": [
    {
     "data": {
      "text/plain": [
       "(0.66224, 1.9556982866744326)"
      ]
     },
     "execution_count": 14,
     "metadata": {},
     "output_type": "execute_result"
    }
   ],
   "source": [
    "ty_pred = predict_labels(w_cv, tx_test)\n",
    "loss_test = np.sqrt(2*compute_loss_ridge(y_test, tx_test, w_cv,best_lambda))\n",
    "np.equal(ty_pred,y_test).mean(), loss_test"
   ]
  },
  {
   "cell_type": "code",
   "execution_count": 17,
   "id": "3b7706db",
   "metadata": {},
   "outputs": [],
   "source": [
    "y_test, x_test, ids_test = load_csv_data(test_data_path, sub_sample=False)\n",
    "std_x_test, _, _ = standardize(x_test)\n",
    "y_pred = predict_labels(w_cv, std_x_test)\n",
    "create_csv_submission(ids_test, y_pred, \"submission_ridge.csv\")"
   ]
  },
  {
   "cell_type": "code",
   "execution_count": 17,
   "id": "6a2021ac",
   "metadata": {},
   "outputs": [
    {
     "name": "stdout",
     "output_type": "stream",
     "text": [
      "2\n",
      "2\n",
      "[ 1  1 -1 -1  1]\n"
     ]
    },
    {
     "data": {
      "text/plain": [
       "0.75"
      ]
     },
     "execution_count": 17,
     "metadata": {},
     "output_type": "execute_result"
    }
   ],
   "source": [
    "y = np.array([1,1,-1,-1,1,1,1])\n",
    "y_hat = np.array([1,1,-1,-1,-1,-1,1])\n",
    "\n",
    "not_classified_correctly = np.sum(~np.equal(y, y_hat))\n",
    "print(not_classified_correctly)\n",
    "mask_positive = y>0\n",
    "print(not_classified_correctly)\n",
    "subs_y = y[mask_positive]\n",
    "subs_y_hat = y_hat[mask_positive]\n",
    "print(subs_y_hat)\n",
    "tp = np.equal(subs_y,subs_y_hat).sum()\n",
    "\n",
    "tp/(tp+1/2*not_classified_correctly)"
   ]
  },
  {
   "cell_type": "code",
   "execution_count": null,
   "id": "b859ea44-3dbd-4cfa-991c-c54b55d988ff",
   "metadata": {},
   "outputs": [],
   "source": []
  }
 ],
 "metadata": {
  "kernelspec": {
   "display_name": "Python 3 (ipykernel)",
   "language": "python",
   "name": "python3"
  },
  "language_info": {
   "codemirror_mode": {
    "name": "ipython",
    "version": 3
   },
   "file_extension": ".py",
   "mimetype": "text/x-python",
   "name": "python",
   "nbconvert_exporter": "python",
   "pygments_lexer": "ipython3",
   "version": "3.8.11"
  }
 },
 "nbformat": 4,
 "nbformat_minor": 5
}
