{
 "cells": [
  {
   "cell_type": "code",
   "execution_count": 1,
   "id": "ecf79ffe",
   "metadata": {},
   "outputs": [],
   "source": [
    "%load_ext autoreload\n",
    "%autoreload 2\n",
    "from proj1_helpers import *\n",
    "from implementations import * "
   ]
  },
  {
   "cell_type": "code",
   "execution_count": 2,
   "id": "794ba5c2",
   "metadata": {},
   "outputs": [],
   "source": [
    "data_path = \"data/train.csv\""
   ]
  },
  {
   "cell_type": "code",
   "execution_count": 3,
   "id": "4ea212cf",
   "metadata": {},
   "outputs": [],
   "source": [
    "y, x, ids = load_csv_data(data_path, sub_sample=False)"
   ]
  },
  {
   "cell_type": "code",
   "execution_count": 4,
   "id": "f41f22ad",
   "metadata": {},
   "outputs": [],
   "source": [
    "tx, mean_x, std_x = standardize(x)"
   ]
  },
  {
   "cell_type": "code",
   "execution_count": 5,
   "id": "fec6dd2d",
   "metadata": {},
   "outputs": [],
   "source": [
    "#SGD parameters\n",
    "initial_w = np.zeros((x.shape[1]))\n",
    "max_iters = 100\n",
    "gamma = 0.05\n",
    "lambda_ = 0.7"
   ]
  },
  {
   "cell_type": "code",
   "execution_count": 6,
   "id": "be8b755e",
   "metadata": {},
   "outputs": [],
   "source": [
    "w_ls_sg, loss_ls_gd = least_squares_GD(y, tx, initial_w, max_iters, gamma)"
   ]
  },
  {
   "cell_type": "code",
   "execution_count": 7,
   "id": "bafeef6f",
   "metadata": {},
   "outputs": [
    {
     "data": {
      "text/plain": [
       "array([ 0.2035595 , -0.12962203, -0.05527349,  0.01229099, -0.02450509,\n",
       "        0.19385846, -0.02780161, -0.02976163, -0.0456469 , -0.03147113,\n",
       "       -0.03162885, -0.02774737, -0.02520986,  0.00993751, -0.02963122,\n",
       "       -0.02967984, -0.05291429, -0.02962913, -0.02952568, -0.0311228 ,\n",
       "       -0.02949501, -0.05152506, -0.03020389,  0.02824165,  0.01292121,\n",
       "        0.01291545, -0.03789906, -0.02545391, -0.02550089, -0.04770133])"
      ]
     },
     "execution_count": 7,
     "metadata": {},
     "output_type": "execute_result"
    }
   ],
   "source": [
    "w_ls_sg"
   ]
  },
  {
   "cell_type": "code",
   "execution_count": 8,
   "id": "7fb8c45e",
   "metadata": {},
   "outputs": [],
   "source": [
    "w_ls_sgd, loss_ls_sgd = least_squares_SGD(y, tx, initial_w, max_iters, gamma)"
   ]
  },
  {
   "cell_type": "code",
   "execution_count": 9,
   "id": "e2a4fcdb",
   "metadata": {},
   "outputs": [],
   "source": [
    "w_ls, loss_ls = least_squares(y, tx)"
   ]
  },
  {
   "cell_type": "code",
   "execution_count": 10,
   "id": "793ecc11",
   "metadata": {},
   "outputs": [],
   "source": [
    "w_rr, loss_rr = ridge_regression(y, tx, lambda_)"
   ]
  },
  {
   "cell_type": "code",
   "execution_count": 11,
   "id": "0bf9e032",
   "metadata": {},
   "outputs": [],
   "source": [
    "w_lr, loss_lr = logistic_regression(y, tx, initial_w, max_iters, gamma)"
   ]
  },
  {
   "cell_type": "code",
   "execution_count": 12,
   "id": "6e341ae8",
   "metadata": {},
   "outputs": [],
   "source": [
    "w_rlr, loss_rlr = reg_logistic_regression(y, tx, lambda_, initial_w, max_iters, gamma)"
   ]
  },
  {
   "cell_type": "code",
   "execution_count": 14,
   "id": "66488e35",
   "metadata": {},
   "outputs": [
    {
     "name": "stdout",
     "output_type": "stream",
     "text": [
      "CPU times: user 31min 34s, sys: 51.4 s, total: 32min 25s\n",
      "Wall time: 5min 26s\n"
     ]
    }
   ],
   "source": [
    "%time w_cv, loss_cv = perform_cross_validation(y, tx, compute_loss_least_squares, compute_gradient_least_squares , 100)"
   ]
  },
  {
   "cell_type": "code",
   "execution_count": 15,
   "id": "1ed7394f",
   "metadata": {},
   "outputs": [
    {
     "data": {
      "text/plain": [
       "(array([ 0.58958322, -0.04841343,  0.18137234,  0.17040102, -0.42563101,\n",
       "        -0.35543422, -0.43606014,  0.06936882,  0.01374764,  0.37435468,\n",
       "         0.06904974,  0.06896532, -0.42796274,  0.24996587,  0.06368095,\n",
       "         0.06637236,  0.15898876,  0.06241744,  0.07550853,  0.07629161,\n",
       "         0.07689515,  0.22913112,  0.07030294, -0.3000637 , -0.41003288,\n",
       "        -0.40870228, -0.45978196, -0.43191981, -0.42945674,  0.10787678]),\n",
       " 10.05194093893734)"
      ]
     },
     "execution_count": 15,
     "metadata": {},
     "output_type": "execute_result"
    }
   ],
   "source": [
    "w_cv, loss_cv"
   ]
  },
  {
   "cell_type": "code",
   "execution_count": null,
   "id": "5438c8f0",
   "metadata": {},
   "outputs": [],
   "source": []
  }
 ],
 "metadata": {
  "kernelspec": {
   "display_name": "Python 3 (ipykernel)",
   "language": "python",
   "name": "python3"
  },
  "language_info": {
   "codemirror_mode": {
    "name": "ipython",
    "version": 3
   },
   "file_extension": ".py",
   "mimetype": "text/x-python",
   "name": "python",
   "nbconvert_exporter": "python",
   "pygments_lexer": "ipython3",
   "version": "3.8.11"
  }
 },
 "nbformat": 4,
 "nbformat_minor": 5
}
