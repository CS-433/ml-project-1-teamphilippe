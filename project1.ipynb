{
 "cells": [
  {
   "cell_type": "code",
   "execution_count": 16,
   "id": "ecf79ffe",
   "metadata": {},
   "outputs": [
    {
     "name": "stdout",
     "output_type": "stream",
     "text": [
      "The autoreload extension is already loaded. To reload it, use:\n",
      "  %reload_ext autoreload\n"
     ]
    }
   ],
   "source": [
    "%load_ext autoreload\n",
    "%autoreload 2\n",
    "from proj1_helpers import *\n",
    "from implementations import * \n",
    "from cleaning import *\n",
    "from cross_validation import *\n",
    "from simulation import *\n",
    "import matplotlib.pyplot as plt"
   ]
  },
  {
   "cell_type": "code",
   "execution_count": 2,
   "id": "794ba5c2",
   "metadata": {},
   "outputs": [],
   "source": [
    "data_path = \"data/train.csv\""
   ]
  },
  {
   "cell_type": "code",
   "execution_count": 3,
   "id": "4ea212cf",
   "metadata": {},
   "outputs": [],
   "source": [
    "y, x, ids = load_csv_data(data_path, sub_sample=False)"
   ]
  },
  {
   "cell_type": "markdown",
   "id": "85a78569",
   "metadata": {},
   "source": [
    "## Exploratory Data Analysis\n",
    "\n",
    "All features are numeric. The number of jets is discrete."
   ]
  },
  {
   "cell_type": "markdown",
   "id": "b7d5c377",
   "metadata": {},
   "source": [
    "#### Distribution of the features\n",
    "Let's look at the distribution of some of the features."
   ]
  },
  {
   "cell_type": "code",
   "execution_count": 12,
   "id": "9cd0c5ee",
   "metadata": {},
   "outputs": [],
   "source": [
    "def plot_histogram(x, col_idx):\n",
    "    plt.hist(x[:, col_idx], bins=100, log=True)\n",
    "    \n",
    "    plt.title(f'Histogram of feature index {col_idx}')\n",
    "    plt.ylabel('Counts (log scale)')\n",
    "    plt.xlabel('Values')\n",
    "    plt.show()\n",
    "    \n",
    "def double_histograms(x, idx_1, idx_2):\n",
    "    fig, ax = plt.subplots(1, 2, sharey='row',figsize=(15,5))\n",
    "\n",
    "    ax[0].hist(x[:, idx_1], bins=100, log=True)\n",
    "    ax[1].hist(x[:, idx_2], bins=100, log=True)\n",
    "    plt.tight_layout()\n",
    "\n",
    "\n",
    "    ax[0].set_title(f'Histogram of feature index {idx_1}')\n",
    "    ax[0].set_ylabel('Counts (log scale)')\n",
    "    ax[0].set_xlabel('Values')\n",
    "\n",
    "    ax[1].set_title(f'Histogram of feature index {idx_2}')\n",
    "    ax[1].set_ylabel('Counts (log scale)')\n",
    "    ax[1].set_xlabel('Values')\n",
    "\n",
    "    plt.subplots_adjust(wspace=0.2, hspace=0.2)\n",
    "    plt.show()\n",
    "\n",
    "def quad_histograms(x, idx_1, idx_2, idx_3, idx_4):\n",
    "    fig, ax = plt.subplots(2, 2, sharey='row',figsize=(15,10))\n",
    "\n",
    "    ax[0,0].hist(x[:, idx_1], bins=100, log=True)\n",
    "    ax[0,1].hist(x[:, idx_2], bins=100, log=True)\n",
    "    ax[1,0].hist(x[:, idx_3], bins=100, log=True)\n",
    "    ax[1,1].hist(x[:, idx_4], bins=100, log=True)\n",
    "    plt.tight_layout()\n",
    "\n",
    "\n",
    "    ax[0, 0].set_title(f'Histogram of feature index {idx_1}')\n",
    "    ax[0, 0].set_ylabel('Counts (log scale)')\n",
    "    ax[0, 0].set_xlabel('Values')\n",
    "\n",
    "    ax[0, 1].set_title(f'Histogram of feature index {idx_2}')\n",
    "    ax[0, 1].set_ylabel('Counts (log scale)')\n",
    "    ax[0, 1].set_xlabel('Values')\n",
    "\n",
    "    ax[1, 0].set_title(f'Histogram of feature index {idx_3}')\n",
    "    ax[1, 0].set_ylabel('Counts (log scale)')\n",
    "    ax[1, 0].set_xlabel('Values')\n",
    "    \n",
    "    ax[1, 1].set_title(f'Histogram of feature index {idx_4}')\n",
    "    ax[1, 1].set_ylabel('Counts (log scale)')\n",
    "    ax[1, 1].set_xlabel('Values')\n",
    "\n",
    "    plt.subplots_adjust(wspace=0.2, hspace=0.2)\n",
    "    plt.show()"
   ]
  },
  {
   "cell_type": "code",
   "execution_count": 13,
   "id": "56babe48-6281-43aa-8050-8381e2c7cf10",
   "metadata": {},
   "outputs": [
    {
     "data": {
      "image/png": "[encoded data removed]",
      "text/plain": [
       "<Figure size 1080x720 with 4 Axes>"
      ]
     },
     "metadata": {
      "needs_background": "light"
     },
     "output_type": "display_data"
    }
   ],
   "source": [
    "quad_histograms(x,23,3,18,22)"
   ]
  },
  {
   "cell_type": "markdown",
   "id": "2bdd6097",
   "metadata": {},
   "source": [
    "We can see that some features clearly have default values to -999, some seem to have extreme outliers (e.g. feature 3). We can also check that feature index 22 only has non negative integer values."
   ]
  },
  {
   "cell_type": "markdown",
   "id": "acfbef51",
   "metadata": {},
   "source": [
    "### Data cleaning"
   ]
  },
  {
   "cell_type": "code",
   "execution_count": 14,
   "id": "f47ba6b9",
   "metadata": {},
   "outputs": [
    {
     "name": "stdout",
     "output_type": "stream",
     "text": [
      "Number of negative values : 0\n"
     ]
    }
   ],
   "source": [
    "# Check if the values for the number of jets are non negative integers\n",
    "# Column 22 corresponds to this variable\n",
    "print(f'Number of negative values : {np.sum(x[:, 22] < 0)}')"
   ]
  },
  {
   "cell_type": "code",
   "execution_count": 15,
   "id": "58e5e9b0-14e0-4e2b-8c44-46ca45aefe42",
   "metadata": {},
   "outputs": [
    {
     "data": {
      "text/plain": [
       "0"
      ]
     },
     "execution_count": 15,
     "metadata": {},
     "output_type": "execute_result"
    }
   ],
   "source": [
    "# Check that no value in the table is a nan value\n",
    "np.sum(x==np.nan)"
   ]
  },
  {
   "cell_type": "markdown",
   "id": "bcb9d93a-b72b-4a17-b356-0d01acda098d",
   "metadata": {},
   "source": [
    "We can see that we have 250'000 data points with 30 features each."
   ]
  },
  {
   "cell_type": "code",
   "execution_count": 16,
   "id": "f4142855",
   "metadata": {},
   "outputs": [
    {
     "data": {
      "text/plain": [
       "(250000, 30)"
      ]
     },
     "execution_count": 16,
     "metadata": {},
     "output_type": "execute_result"
    }
   ],
   "source": [
    "x.shape"
   ]
  },
  {
   "cell_type": "code",
   "execution_count": 17,
   "id": "c6f7a3be",
   "metadata": {},
   "outputs": [
    {
     "data": {
      "text/plain": [
       "array([ 38114,      0,      0,      0, 177457, 177457, 177457,      0,\n",
       "            0,      0,      0,      0, 177457,      0,      0,      0,\n",
       "            0,      0,      0,      0,      0,      0,      0,  99913,\n",
       "        99913,  99913, 177457, 177457, 177457,      0])"
      ]
     },
     "execution_count": 17,
     "metadata": {},
     "output_type": "execute_result"
    }
   ],
   "source": [
    "np.sum(x == -999, axis=0)"
   ]
  },
  {
   "cell_type": "markdown",
   "id": "e3d56a50-f2ac-438e-805a-e269a1108441",
   "metadata": {},
   "source": [
    "We can see that some of the features have a very high number of undefined values (-999). We could replace this undefined values by e.g. 0 or the mean of the remaining values but this would result in columns having its majority of entries (e.g. 177'000 / 250'000 $\\approx$ 0.7) at the same value. This would imply that there is not a lot of variance in the feature and therefore this does not give much information about the label we want to predict. So we decided to drop the features where more than half of the rows are at -999."
   ]
  },
  {
   "cell_type": "code",
   "execution_count": 4,
   "id": "6682335b",
   "metadata": {},
   "outputs": [],
   "source": [
    "# We remove the features where more than half of the rows are -999\n",
    "x_cleaned, col_removed_training = remove_col_default_values(x)"
   ]
  },
  {
   "cell_type": "code",
   "execution_count": 5,
   "id": "b96c8720-2a34-4de6-bbb5-0b216c47574b",
   "metadata": {},
   "outputs": [
    {
     "data": {
      "text/plain": [
       "[4, 5, 6, 12, 26, 27, 28]"
      ]
     },
     "execution_count": 5,
     "metadata": {},
     "output_type": "execute_result"
    }
   ],
   "source": [
    "col_removed_training"
   ]
  },
  {
   "cell_type": "markdown",
   "id": "c4b9258b-e1d6-43f2-9ca0-555d3ad3dabf",
   "metadata": {},
   "source": [
    "We can see that with this method we dropped 7 columns."
   ]
  },
  {
   "cell_type": "markdown",
   "id": "0a1cbbae",
   "metadata": {},
   "source": [
    "We also looked if some rows were having more than half of its features set to a default value (i.e. -999). In this case, there were no such rows."
   ]
  },
  {
   "cell_type": "code",
   "execution_count": 6,
   "id": "b70042fd",
   "metadata": {},
   "outputs": [
    {
     "name": "stdout",
     "output_type": "stream",
     "text": [
      "Number of rows : 0\n"
     ]
    }
   ],
   "source": [
    "check_nb_rows_default_features(x_cleaned)"
   ]
  },
  {
   "cell_type": "markdown",
   "id": "c4557b2a",
   "metadata": {},
   "source": [
    "\n",
    "\n",
    "For the remaining default values, we decided to set them to -999. We did this instead of e.g. replacing them by the mean or median of the remaining values because we noted that the models actually performed better."
   ]
  },
  {
   "cell_type": "code",
   "execution_count": 7,
   "id": "f5016b46",
   "metadata": {},
   "outputs": [],
   "source": [
    "x_cleaned, default_values_training = replace_by_default_value(x_cleaned)"
   ]
  },
  {
   "cell_type": "markdown",
   "id": "5dace82d-2e1e-4500-90ae-2be13f3c066d",
   "metadata": {},
   "source": [
    "Some features represents angles, which are supposed to be in the range $[\\pi; -\\pi[$ according to the documentation of the dataset (https://higgsml.lal.in2p3.fr/files/2014/04/documentation_v1.8.pdf). Let's check this is the case."
   ]
  },
  {
   "cell_type": "code",
   "execution_count": 8,
   "id": "cd264722-c052-4b62-8d55-921ae4558989",
   "metadata": {},
   "outputs": [
    {
     "name": "stdout",
     "output_type": "stream",
     "text": [
      "Number of values outside [-pi;pi[ (col 11): 9\n",
      "Number of values outside [-pi;pi[ (col 14): 11\n",
      "Number of values outside [-pi;pi[ (col 16): 9\n",
      "Number of values outside [-pi;pi[ (col 21): 3\n"
     ]
    }
   ],
   "source": [
    "cols_angle = [11, 14, 16, 21]\n",
    "x_cleaned = check_all_azimuth_angles(x_cleaned, cols_angle)"
   ]
  },
  {
   "cell_type": "markdown",
   "id": "77b18a48-80a4-4c92-85f5-435962554641",
   "metadata": {},
   "source": [
    "We can see that some of the features have rows with azimuth outside the range. For these features indexes we deciced to put the non-valid values back in the $[-\\pi; \\pi[$ interval by taking the modulo $2 \\pi$ and subtracting $\\pi$."
   ]
  },
  {
   "cell_type": "code",
   "execution_count": 23,
   "id": "071dbb1c-7f90-4c47-b97b-f893257af4aa",
   "metadata": {},
   "outputs": [
    {
     "data": {
      "image/png": "[encoded data removed]",
      "text/plain": [
       "<Figure size 1080x360 with 2 Axes>"
      ]
     },
     "metadata": {
      "needs_background": "light"
     },
     "output_type": "display_data"
    }
   ],
   "source": [
    "double_histograms(x_cleaned, 3,19)"
   ]
  },
  {
   "cell_type": "markdown",
   "id": "bc94b1a1",
   "metadata": {},
   "source": [
    "#### Removing outliers\n",
    "We can observe that in some features there still seems to be some outliers (e.g. see the histogram above for feature index 3).\n",
    "\n",
    "\n",
    "We will deal with them using a method based on the Inter Quartile Range (IQR). "
   ]
  },
  {
   "cell_type": "code",
   "execution_count": 9,
   "id": "5d5c7fe9",
   "metadata": {},
   "outputs": [],
   "source": [
    "x_cleaned, above_lim_training, below_lim_training = clip_IQR(x_cleaned)"
   ]
  },
  {
   "cell_type": "code",
   "execution_count": 10,
   "id": "6d8c57c2-7714-4df4-8ad2-22091583c638",
   "metadata": {},
   "outputs": [
    {
     "data": {
      "text/plain": [
       "[11, 14, 16, 21]"
      ]
     },
     "execution_count": 10,
     "metadata": {},
     "output_type": "execute_result"
    }
   ],
   "source": [
    "cols_angle"
   ]
  },
  {
   "cell_type": "code",
   "execution_count": 11,
   "id": "72e581d9",
   "metadata": {},
   "outputs": [],
   "source": [
    "x_cleaned_copy = x_cleaned.copy()"
   ]
  },
  {
   "cell_type": "code",
   "execution_count": 12,
   "id": "a928ec2b-2ea7-4b7c-9f17-3cca17ffd4e5",
   "metadata": {
    "scrolled": true
   },
   "outputs": [
    {
     "name": "stdout",
     "output_type": "stream",
     "text": [
      "End of processing + expansion\n",
      "Beginning training\n",
      "Beginning cross-validation\n",
      "Perform cross-validation for lambda=0.0000 and degree=2\n",
      "Loss for lambda=0.0000 and degree=2 : tr=0.742078, te=0.743354\n",
      "\n",
      "Perform cross-validation for lambda=0.0000 and degree=2\n",
      "Loss for lambda=0.0000 and degree=2 : tr=0.742078, te=0.743354\n",
      "\n",
      "Perform cross-validation for lambda=0.0000 and degree=2\n",
      "Loss for lambda=0.0000 and degree=2 : tr=0.742078, te=0.743354\n",
      "\n",
      "Perform cross-validation for lambda=0.0000 and degree=2\n",
      "Loss for lambda=0.0000 and degree=2 : tr=0.742078, te=0.743354\n",
      "\n",
      "Perform cross-validation for lambda=0.0000 and degree=2\n",
      "Loss for lambda=0.0000 and degree=2 : tr=0.742078, te=0.743354\n",
      "\n",
      "Perform cross-validation for lambda=0.0000 and degree=2\n",
      "Loss for lambda=0.0000 and degree=2 : tr=0.742078, te=0.743354\n",
      "\n",
      "Perform cross-validation for lambda=0.0000 and degree=2\n",
      "Loss for lambda=0.0000 and degree=2 : tr=0.742078, te=0.743354\n",
      "\n",
      "Perform cross-validation for lambda=0.0000 and degree=2\n",
      "Loss for lambda=0.0000 and degree=2 : tr=0.742078, te=0.743354\n",
      "\n",
      "Perform cross-validation for lambda=0.0000 and degree=2\n",
      "Loss for lambda=0.0000 and degree=2 : tr=0.742078, te=0.743354\n",
      "\n",
      "Perform cross-validation for lambda=0.0000 and degree=2\n",
      "Loss for lambda=0.0000 and degree=2 : tr=0.742078, te=0.743353\n",
      "\n",
      "Perform cross-validation for lambda=0.0001 and degree=2\n",
      "Loss for lambda=0.0001 and degree=2 : tr=0.742080, te=0.743348\n",
      "\n",
      "Perform cross-validation for lambda=0.0006 and degree=2\n",
      "Loss for lambda=0.0006 and degree=2 : tr=0.742180, te=0.743396\n",
      "\n",
      "Perform cross-validation for lambda=0.0072 and degree=2\n",
      "Loss for lambda=0.0072 and degree=2 : tr=0.743309, te=0.744349\n",
      "\n",
      "Perform cross-validation for lambda=0.0848 and degree=2\n",
      "Loss for lambda=0.0848 and degree=2 : tr=0.752167, te=0.752862\n",
      "\n",
      "Perform cross-validation for lambda=1.0000 and degree=2\n",
      "Loss for lambda=1.0000 and degree=2 : tr=0.799375, te=0.799652\n",
      "\n",
      "Perform cross-validation for lambda=0.0000 and degree=3\n",
      "Loss for lambda=0.0000 and degree=3 : tr=0.737020, te=0.738395\n",
      "\n",
      "Perform cross-validation for lambda=0.0000 and degree=3\n",
      "Loss for lambda=0.0000 and degree=3 : tr=0.737020, te=0.738395\n",
      "\n",
      "Perform cross-validation for lambda=0.0000 and degree=3\n",
      "Loss for lambda=0.0000 and degree=3 : tr=0.737020, te=0.738395\n",
      "\n",
      "Perform cross-validation for lambda=0.0000 and degree=3\n",
      "Loss for lambda=0.0000 and degree=3 : tr=0.737020, te=0.738395\n",
      "\n",
      "Perform cross-validation for lambda=0.0000 and degree=3\n",
      "Loss for lambda=0.0000 and degree=3 : tr=0.737020, te=0.738395\n",
      "\n",
      "Perform cross-validation for lambda=0.0000 and degree=3\n",
      "Loss for lambda=0.0000 and degree=3 : tr=0.737020, te=0.738395\n",
      "\n",
      "Perform cross-validation for lambda=0.0000 and degree=3\n",
      "Loss for lambda=0.0000 and degree=3 : tr=0.737020, te=0.738395\n",
      "\n",
      "Perform cross-validation for lambda=0.0000 and degree=3\n",
      "Loss for lambda=0.0000 and degree=3 : tr=0.737020, te=0.738395\n",
      "\n",
      "Perform cross-validation for lambda=0.0000 and degree=3\n",
      "Loss for lambda=0.0000 and degree=3 : tr=0.737020, te=0.738395\n",
      "\n",
      "Perform cross-validation for lambda=0.0000 and degree=3\n",
      "Loss for lambda=0.0000 and degree=3 : tr=0.737020, te=0.738394\n",
      "\n",
      "Perform cross-validation for lambda=0.0001 and degree=3\n",
      "Loss for lambda=0.0001 and degree=3 : tr=0.737024, te=0.738386\n",
      "\n",
      "Perform cross-validation for lambda=0.0006 and degree=3\n",
      "Loss for lambda=0.0006 and degree=3 : tr=0.737138, te=0.738441\n",
      "\n",
      "Perform cross-validation for lambda=0.0072 and degree=3\n",
      "Loss for lambda=0.0072 and degree=3 : tr=0.738170, te=0.739288\n",
      "\n",
      "Perform cross-validation for lambda=0.0848 and degree=3\n",
      "Loss for lambda=0.0848 and degree=3 : tr=0.745729, te=0.746473\n",
      "\n",
      "Perform cross-validation for lambda=1.0000 and degree=3\n",
      "Loss for lambda=1.0000 and degree=3 : tr=0.789350, te=0.789665\n",
      "\n",
      "Perform cross-validation for lambda=0.0000 and degree=4\n",
      "Loss for lambda=0.0000 and degree=4 : tr=0.732516, te=0.733978\n",
      "\n",
      "Perform cross-validation for lambda=0.0000 and degree=4\n",
      "Loss for lambda=0.0000 and degree=4 : tr=0.732516, te=0.733978\n",
      "\n",
      "Perform cross-validation for lambda=0.0000 and degree=4\n",
      "Loss for lambda=0.0000 and degree=4 : tr=0.732516, te=0.733978\n",
      "\n",
      "Perform cross-validation for lambda=0.0000 and degree=4\n",
      "Loss for lambda=0.0000 and degree=4 : tr=0.732516, te=0.733978\n",
      "\n",
      "Perform cross-validation for lambda=0.0000 and degree=4\n",
      "Loss for lambda=0.0000 and degree=4 : tr=0.732516, te=0.733978\n",
      "\n",
      "Perform cross-validation for lambda=0.0000 and degree=4\n",
      "Loss for lambda=0.0000 and degree=4 : tr=0.732521, te=0.733981\n",
      "\n",
      "Perform cross-validation for lambda=0.0000 and degree=4\n",
      "Loss for lambda=0.0000 and degree=4 : tr=0.732526, te=0.733985\n",
      "\n",
      "Perform cross-validation for lambda=0.0000 and degree=4\n",
      "Loss for lambda=0.0000 and degree=4 : tr=0.732526, te=0.733986\n",
      "\n",
      "Perform cross-validation for lambda=0.0000 and degree=4\n",
      "Loss for lambda=0.0000 and degree=4 : tr=0.732528, te=0.733985\n",
      "\n",
      "Perform cross-validation for lambda=0.0000 and degree=4\n",
      "Loss for lambda=0.0000 and degree=4 : tr=0.732564, te=0.734015\n",
      "\n",
      "Perform cross-validation for lambda=0.0001 and degree=4\n",
      "Loss for lambda=0.0001 and degree=4 : tr=0.732638, te=0.734075\n",
      "\n",
      "Perform cross-validation for lambda=0.0006 and degree=4\n",
      "Loss for lambda=0.0006 and degree=4 : tr=0.732773, te=0.734152\n",
      "\n",
      "Perform cross-validation for lambda=0.0072 and degree=4\n",
      "Loss for lambda=0.0072 and degree=4 : tr=0.734201, te=0.735389\n",
      "\n",
      "Perform cross-validation for lambda=0.0848 and degree=4\n",
      "Loss for lambda=0.0848 and degree=4 : tr=0.743121, te=0.743922\n",
      "\n",
      "Perform cross-validation for lambda=1.0000 and degree=4\n",
      "Loss for lambda=1.0000 and degree=4 : tr=0.782970, te=0.783325\n",
      "\n",
      "Perform cross-validation for lambda=0.0000 and degree=5\n",
      "Loss for lambda=0.0000 and degree=5 : tr=0.729348, te=0.730873\n",
      "\n",
      "Perform cross-validation for lambda=0.0000 and degree=5\n",
      "Loss for lambda=0.0000 and degree=5 : tr=0.729348, te=0.730873\n",
      "\n",
      "Perform cross-validation for lambda=0.0000 and degree=5\n",
      "Loss for lambda=0.0000 and degree=5 : tr=0.729348, te=0.730872\n",
      "\n",
      "Perform cross-validation for lambda=0.0000 and degree=5\n",
      "Loss for lambda=0.0000 and degree=5 : tr=0.729349, te=0.730870\n",
      "\n",
      "Perform cross-validation for lambda=0.0000 and degree=5\n",
      "Loss for lambda=0.0000 and degree=5 : tr=0.729349, te=0.730869\n",
      "\n",
      "Perform cross-validation for lambda=0.0000 and degree=5\n",
      "Loss for lambda=0.0000 and degree=5 : tr=0.729349, te=0.730869\n",
      "\n",
      "Perform cross-validation for lambda=0.0000 and degree=5\n",
      "Loss for lambda=0.0000 and degree=5 : tr=0.729349, te=0.730869\n",
      "\n",
      "Perform cross-validation for lambda=0.0000 and degree=5\n",
      "Loss for lambda=0.0000 and degree=5 : tr=0.729350, te=0.730868\n",
      "\n",
      "Perform cross-validation for lambda=0.0000 and degree=5\n",
      "Loss for lambda=0.0000 and degree=5 : tr=0.729365, te=0.730880\n",
      "\n",
      "Perform cross-validation for lambda=0.0000 and degree=5\n",
      "Loss for lambda=0.0000 and degree=5 : tr=0.729399, te=0.730910\n",
      "\n",
      "Perform cross-validation for lambda=0.0001 and degree=5\n",
      "Loss for lambda=0.0001 and degree=5 : tr=0.729408, te=0.730908\n",
      "\n",
      "Perform cross-validation for lambda=0.0006 and degree=5\n",
      "Loss for lambda=0.0006 and degree=5 : tr=0.729505, te=0.730939\n",
      "\n",
      "Perform cross-validation for lambda=0.0072 and degree=5\n",
      "Loss for lambda=0.0072 and degree=5 : tr=0.730913, te=0.732131\n",
      "\n",
      "Perform cross-validation for lambda=0.0848 and degree=5\n",
      "Loss for lambda=0.0848 and degree=5 : tr=0.741610, te=0.742430\n",
      "\n",
      "Perform cross-validation for lambda=1.0000 and degree=5\n",
      "Loss for lambda=1.0000 and degree=5 : tr=0.780314, te=0.780699\n",
      "\n",
      "Perform cross-validation for lambda=0.0000 and degree=6\n",
      "Loss for lambda=0.0000 and degree=6 : tr=0.728634, te=0.730344\n",
      "\n",
      "Perform cross-validation for lambda=0.0000 and degree=6\n",
      "Loss for lambda=0.0000 and degree=6 : tr=0.728632, te=0.730340\n",
      "\n",
      "Perform cross-validation for lambda=0.0000 and degree=6\n",
      "Loss for lambda=0.0000 and degree=6 : tr=0.728632, te=0.730337\n",
      "\n",
      "Perform cross-validation for lambda=0.0000 and degree=6\n",
      "Loss for lambda=0.0000 and degree=6 : tr=0.728632, te=0.730335\n",
      "\n",
      "Perform cross-validation for lambda=0.0000 and degree=6\n",
      "Loss for lambda=0.0000 and degree=6 : tr=0.728632, te=0.730335\n",
      "\n",
      "Perform cross-validation for lambda=0.0000 and degree=6\n",
      "Loss for lambda=0.0000 and degree=6 : tr=0.728633, te=0.730332\n",
      "\n",
      "Perform cross-validation for lambda=0.0000 and degree=6\n",
      "Loss for lambda=0.0000 and degree=6 : tr=0.728634, te=0.730326\n",
      "\n",
      "Perform cross-validation for lambda=0.0000 and degree=6\n",
      "Loss for lambda=0.0000 and degree=6 : tr=0.728636, te=0.730321\n",
      "\n",
      "Perform cross-validation for lambda=0.0000 and degree=6\n"
     ]
    },
    {
     "name": "stdout",
     "output_type": "stream",
     "text": [
      "Loss for lambda=0.0000 and degree=6 : tr=0.728636, te=0.730321\n",
      "\n",
      "Perform cross-validation for lambda=0.0000 and degree=6\n",
      "Loss for lambda=0.0000 and degree=6 : tr=0.728636, te=0.730318\n",
      "\n",
      "Perform cross-validation for lambda=0.0001 and degree=6\n",
      "Loss for lambda=0.0001 and degree=6 : tr=0.728638, te=0.730305\n",
      "\n",
      "Perform cross-validation for lambda=0.0006 and degree=6\n",
      "Loss for lambda=0.0006 and degree=6 : tr=0.728733, te=0.730320\n",
      "\n",
      "Perform cross-validation for lambda=0.0072 and degree=6\n",
      "Loss for lambda=0.0072 and degree=6 : tr=0.730206, te=0.731544\n",
      "\n",
      "Perform cross-validation for lambda=0.0848 and degree=6\n",
      "Loss for lambda=0.0848 and degree=6 : tr=0.741029, te=0.741919\n",
      "\n",
      "Perform cross-validation for lambda=1.0000 and degree=6\n",
      "Loss for lambda=1.0000 and degree=6 : tr=0.777502, te=0.777921\n",
      "\n",
      "Perform cross-validation for lambda=0.0000 and degree=7\n",
      "Loss for lambda=0.0000 and degree=7 : tr=0.727134, te=0.728851\n",
      "\n",
      "Perform cross-validation for lambda=0.0000 and degree=7\n",
      "Loss for lambda=0.0000 and degree=7 : tr=0.727134, te=0.728851\n",
      "\n",
      "Perform cross-validation for lambda=0.0000 and degree=7\n",
      "Loss for lambda=0.0000 and degree=7 : tr=0.727134, te=0.728851\n",
      "\n",
      "Perform cross-validation for lambda=0.0000 and degree=7\n",
      "Loss for lambda=0.0000 and degree=7 : tr=0.727134, te=0.728850\n",
      "\n",
      "Perform cross-validation for lambda=0.0000 and degree=7\n",
      "Loss for lambda=0.0000 and degree=7 : tr=0.727135, te=0.728848\n",
      "\n",
      "Perform cross-validation for lambda=0.0000 and degree=7\n",
      "Loss for lambda=0.0000 and degree=7 : tr=0.727139, te=0.728847\n",
      "\n",
      "Perform cross-validation for lambda=0.0000 and degree=7\n",
      "Loss for lambda=0.0000 and degree=7 : tr=0.727143, te=0.728848\n",
      "\n",
      "Perform cross-validation for lambda=0.0000 and degree=7\n",
      "Loss for lambda=0.0000 and degree=7 : tr=0.727144, te=0.728848\n",
      "\n",
      "Perform cross-validation for lambda=0.0000 and degree=7\n",
      "Loss for lambda=0.0000 and degree=7 : tr=0.727144, te=0.728848\n",
      "\n",
      "Perform cross-validation for lambda=0.0000 and degree=7\n",
      "Loss for lambda=0.0000 and degree=7 : tr=0.727145, te=0.728845\n",
      "\n",
      "Perform cross-validation for lambda=0.0001 and degree=7\n",
      "Loss for lambda=0.0001 and degree=7 : tr=0.727163, te=0.728843\n",
      "\n",
      "Perform cross-validation for lambda=0.0006 and degree=7\n",
      "Loss for lambda=0.0006 and degree=7 : tr=0.727330, te=0.728906\n",
      "\n",
      "Perform cross-validation for lambda=0.0072 and degree=7\n",
      "Loss for lambda=0.0072 and degree=7 : tr=0.729087, te=0.730394\n",
      "\n",
      "Perform cross-validation for lambda=0.0848 and degree=7\n",
      "Loss for lambda=0.0848 and degree=7 : tr=0.738981, te=0.739867\n",
      "\n",
      "Perform cross-validation for lambda=1.0000 and degree=7\n",
      "Loss for lambda=1.0000 and degree=7 : tr=0.776935, te=0.777401\n",
      "\n",
      "Perform cross-validation for lambda=0.0000 and degree=8\n",
      "Loss for lambda=0.0000 and degree=8 : tr=0.726813, te=0.728703\n",
      "\n",
      "Perform cross-validation for lambda=0.0000 and degree=8\n",
      "Loss for lambda=0.0000 and degree=8 : tr=0.726813, te=0.728702\n",
      "\n",
      "Perform cross-validation for lambda=0.0000 and degree=8\n",
      "Loss for lambda=0.0000 and degree=8 : tr=0.726813, te=0.728695\n",
      "\n",
      "Perform cross-validation for lambda=0.0000 and degree=8\n",
      "Loss for lambda=0.0000 and degree=8 : tr=0.726818, te=0.728693\n",
      "\n",
      "Perform cross-validation for lambda=0.0000 and degree=8\n",
      "Loss for lambda=0.0000 and degree=8 : tr=0.726821, te=0.728695\n",
      "\n",
      "Perform cross-validation for lambda=0.0000 and degree=8\n",
      "Loss for lambda=0.0000 and degree=8 : tr=0.726822, te=0.728695\n",
      "\n",
      "Perform cross-validation for lambda=0.0000 and degree=8\n",
      "Loss for lambda=0.0000 and degree=8 : tr=0.726822, te=0.728695\n",
      "\n",
      "Perform cross-validation for lambda=0.0000 and degree=8\n",
      "Loss for lambda=0.0000 and degree=8 : tr=0.726822, te=0.728695\n",
      "\n",
      "Perform cross-validation for lambda=0.0000 and degree=8\n",
      "Loss for lambda=0.0000 and degree=8 : tr=0.726822, te=0.728694\n",
      "\n",
      "Perform cross-validation for lambda=0.0000 and degree=8\n",
      "Loss for lambda=0.0000 and degree=8 : tr=0.726823, te=0.728690\n",
      "\n",
      "Perform cross-validation for lambda=0.0001 and degree=8\n",
      "Loss for lambda=0.0001 and degree=8 : tr=0.726845, te=0.728680\n",
      "\n",
      "Perform cross-validation for lambda=0.0006 and degree=8\n",
      "Loss for lambda=0.0006 and degree=8 : tr=0.727037, te=0.728743\n",
      "\n",
      "Perform cross-validation for lambda=0.0072 and degree=8\n",
      "Loss for lambda=0.0072 and degree=8 : tr=0.728780, te=0.730190\n",
      "\n",
      "Perform cross-validation for lambda=0.0848 and degree=8\n",
      "Loss for lambda=0.0848 and degree=8 : tr=0.738876, te=0.739800\n",
      "\n",
      "Perform cross-validation for lambda=1.0000 and degree=8\n",
      "Loss for lambda=1.0000 and degree=8 : tr=0.776486, te=0.777053\n",
      "\n",
      "Perform cross-validation for lambda=0.0000 and degree=9\n",
      "Loss for lambda=0.0000 and degree=9 : tr=0.726052, te=0.727951\n",
      "\n",
      "Perform cross-validation for lambda=0.0000 and degree=9\n",
      "Loss for lambda=0.0000 and degree=9 : tr=0.726053, te=0.727948\n",
      "\n",
      "Perform cross-validation for lambda=0.0000 and degree=9\n",
      "Loss for lambda=0.0000 and degree=9 : tr=0.726057, te=0.727947\n",
      "\n",
      "Perform cross-validation for lambda=0.0000 and degree=9\n",
      "Loss for lambda=0.0000 and degree=9 : tr=0.726059, te=0.727948\n",
      "\n",
      "Perform cross-validation for lambda=0.0000 and degree=9\n",
      "Loss for lambda=0.0000 and degree=9 : tr=0.726060, te=0.727948\n",
      "\n",
      "Perform cross-validation for lambda=0.0000 and degree=9\n",
      "Loss for lambda=0.0000 and degree=9 : tr=0.726060, te=0.727948\n",
      "\n",
      "Perform cross-validation for lambda=0.0000 and degree=9\n",
      "Loss for lambda=0.0000 and degree=9 : tr=0.726060, te=0.727948\n",
      "\n",
      "Perform cross-validation for lambda=0.0000 and degree=9\n",
      "Loss for lambda=0.0000 and degree=9 : tr=0.726060, te=0.727948\n",
      "\n",
      "Perform cross-validation for lambda=0.0000 and degree=9\n",
      "Loss for lambda=0.0000 and degree=9 : tr=0.726061, te=0.727946\n",
      "\n",
      "Perform cross-validation for lambda=0.0000 and degree=9\n",
      "Loss for lambda=0.0000 and degree=9 : tr=0.726065, te=0.727940\n",
      "\n",
      "Perform cross-validation for lambda=0.0001 and degree=9\n",
      "Loss for lambda=0.0001 and degree=9 : tr=0.726087, te=0.727911\n",
      "\n",
      "Perform cross-validation for lambda=0.0006 and degree=9\n",
      "Loss for lambda=0.0006 and degree=9 : tr=0.726322, te=0.727995\n",
      "\n",
      "Perform cross-validation for lambda=0.0072 and degree=9\n",
      "Loss for lambda=0.0072 and degree=9 : tr=0.727939, te=0.729330\n",
      "\n",
      "Perform cross-validation for lambda=0.0848 and degree=9\n",
      "Loss for lambda=0.0848 and degree=9 : tr=0.738923, te=0.739889\n",
      "\n",
      "Perform cross-validation for lambda=1.0000 and degree=9\n",
      "Loss for lambda=1.0000 and degree=9 : tr=0.774333, te=0.774869\n",
      "\n"
     ]
    },
    {
     "data": {
      "image/png": "[encoded data removed]",
      "text/plain": [
       "<Figure size 432x288 with 2 Axes>"
      ]
     },
     "metadata": {
      "needs_background": "light"
     },
     "output_type": "display_data"
    },
    {
     "name": "stdout",
     "output_type": "stream",
     "text": [
      "Accuracy of ridge_regression on the local test set : 0.8206\n",
      "F1-score of ridge_regression on the local test set : 0.7247\n"
     ]
    }
   ],
   "source": [
    "acc_local_test, f1_local_test, w_best, best_degree, best_lambda = run_experiment(y, x_cleaned_copy, 'ridge_regression', 1, 0.8, cols_angle, max_degree=9)"
   ]
  },
  {
   "cell_type": "code",
   "execution_count": 13,
   "id": "9a8d5767-cec1-4beb-ada3-28d36233ad2f",
   "metadata": {},
   "outputs": [
    {
     "data": {
      "text/plain": [
       "(9, 5.179474679231202e-05)"
      ]
     },
     "execution_count": 13,
     "metadata": {},
     "output_type": "execute_result"
    }
   ],
   "source": [
    "best_degree, best_lambda"
   ]
  },
  {
   "cell_type": "code",
   "execution_count": 14,
   "id": "cda11fec",
   "metadata": {},
   "outputs": [
    {
     "data": {
      "text/plain": [
       "(464,)"
      ]
     },
     "execution_count": 14,
     "metadata": {},
     "output_type": "execute_result"
    }
   ],
   "source": [
    "w_best.shape"
   ]
  },
  {
   "cell_type": "code",
   "execution_count": 25,
   "id": "d29f3276",
   "metadata": {},
   "outputs": [
    {
     "data": {
      "text/plain": [
       "(250000, 23)"
      ]
     },
     "execution_count": 25,
     "metadata": {},
     "output_type": "execute_result"
    }
   ],
   "source": [
    "x_cleaned_copy.shape"
   ]
  },
  {
   "cell_type": "code",
   "execution_count": 26,
   "id": "72c79128",
   "metadata": {
    "scrolled": true
   },
   "outputs": [
    {
     "name": "stdout",
     "output_type": "stream",
     "text": [
      "End of processing + expansion\n",
      "Beginning training\n",
      "Beginning cross-validation\n",
      "Perform cross-validation for lambda=0.0000 and degree=2\n",
      "Loss for lambda=0.0000 and degree=2 : tr=0.742078, te=0.743354\n",
      "\n",
      "Perform cross-validation for lambda=0.0000 and degree=2\n",
      "Loss for lambda=0.0000 and degree=2 : tr=0.742078, te=0.743354\n",
      "\n",
      "Perform cross-validation for lambda=0.0000 and degree=2\n",
      "Loss for lambda=0.0000 and degree=2 : tr=0.742078, te=0.743354\n",
      "\n",
      "Perform cross-validation for lambda=0.0000 and degree=2\n",
      "Loss for lambda=0.0000 and degree=2 : tr=0.742078, te=0.743354\n",
      "\n",
      "Perform cross-validation for lambda=0.0000 and degree=2\n",
      "Loss for lambda=0.0000 and degree=2 : tr=0.742078, te=0.743354\n",
      "\n",
      "Perform cross-validation for lambda=0.0000 and degree=2\n",
      "Loss for lambda=0.0000 and degree=2 : tr=0.742078, te=0.743354\n",
      "\n",
      "Perform cross-validation for lambda=0.0000 and degree=2\n",
      "Loss for lambda=0.0000 and degree=2 : tr=0.742078, te=0.743354\n",
      "\n",
      "Perform cross-validation for lambda=0.0000 and degree=2\n",
      "Loss for lambda=0.0000 and degree=2 : tr=0.742078, te=0.743354\n",
      "\n",
      "Perform cross-validation for lambda=0.0000 and degree=2\n",
      "Loss for lambda=0.0000 and degree=2 : tr=0.742078, te=0.743354\n",
      "\n",
      "Perform cross-validation for lambda=0.0000 and degree=2\n",
      "Loss for lambda=0.0000 and degree=2 : tr=0.742078, te=0.743353\n",
      "\n",
      "Perform cross-validation for lambda=0.0001 and degree=2\n",
      "Loss for lambda=0.0001 and degree=2 : tr=0.742080, te=0.743348\n",
      "\n",
      "Perform cross-validation for lambda=0.0006 and degree=2\n",
      "Loss for lambda=0.0006 and degree=2 : tr=0.742180, te=0.743396\n",
      "\n",
      "Perform cross-validation for lambda=0.0072 and degree=2\n",
      "Loss for lambda=0.0072 and degree=2 : tr=0.743309, te=0.744349\n",
      "\n",
      "Perform cross-validation for lambda=0.0848 and degree=2\n",
      "Loss for lambda=0.0848 and degree=2 : tr=0.752167, te=0.752862\n",
      "\n",
      "Perform cross-validation for lambda=1.0000 and degree=2\n",
      "Loss for lambda=1.0000 and degree=2 : tr=0.799375, te=0.799652\n",
      "\n",
      "Perform cross-validation for lambda=0.0000 and degree=3\n",
      "Loss for lambda=0.0000 and degree=3 : tr=0.737020, te=0.738395\n",
      "\n",
      "Perform cross-validation for lambda=0.0000 and degree=3\n",
      "Loss for lambda=0.0000 and degree=3 : tr=0.737020, te=0.738395\n",
      "\n",
      "Perform cross-validation for lambda=0.0000 and degree=3\n",
      "Loss for lambda=0.0000 and degree=3 : tr=0.737020, te=0.738395\n",
      "\n",
      "Perform cross-validation for lambda=0.0000 and degree=3\n",
      "Loss for lambda=0.0000 and degree=3 : tr=0.737020, te=0.738395\n",
      "\n",
      "Perform cross-validation for lambda=0.0000 and degree=3\n",
      "Loss for lambda=0.0000 and degree=3 : tr=0.737020, te=0.738395\n",
      "\n",
      "Perform cross-validation for lambda=0.0000 and degree=3\n",
      "Loss for lambda=0.0000 and degree=3 : tr=0.737020, te=0.738395\n",
      "\n",
      "Perform cross-validation for lambda=0.0000 and degree=3\n",
      "Loss for lambda=0.0000 and degree=3 : tr=0.737020, te=0.738395\n",
      "\n",
      "Perform cross-validation for lambda=0.0000 and degree=3\n",
      "Loss for lambda=0.0000 and degree=3 : tr=0.737020, te=0.738395\n",
      "\n",
      "Perform cross-validation for lambda=0.0000 and degree=3\n",
      "Loss for lambda=0.0000 and degree=3 : tr=0.737020, te=0.738395\n",
      "\n",
      "Perform cross-validation for lambda=0.0000 and degree=3\n",
      "Loss for lambda=0.0000 and degree=3 : tr=0.737020, te=0.738394\n",
      "\n",
      "Perform cross-validation for lambda=0.0001 and degree=3\n",
      "Loss for lambda=0.0001 and degree=3 : tr=0.737024, te=0.738386\n",
      "\n",
      "Perform cross-validation for lambda=0.0006 and degree=3\n",
      "Loss for lambda=0.0006 and degree=3 : tr=0.737138, te=0.738441\n",
      "\n",
      "Perform cross-validation for lambda=0.0072 and degree=3\n",
      "Loss for lambda=0.0072 and degree=3 : tr=0.738170, te=0.739288\n",
      "\n",
      "Perform cross-validation for lambda=0.0848 and degree=3\n",
      "Loss for lambda=0.0848 and degree=3 : tr=0.745729, te=0.746473\n",
      "\n",
      "Perform cross-validation for lambda=1.0000 and degree=3\n",
      "Loss for lambda=1.0000 and degree=3 : tr=0.789350, te=0.789665\n",
      "\n"
     ]
    },
    {
     "data": {
      "image/png": "[encoded data removed]",
      "text/plain": [
       "<Figure size 432x288 with 2 Axes>"
      ]
     },
     "metadata": {
      "needs_background": "light"
     },
     "output_type": "display_data"
    },
    {
     "name": "stdout",
     "output_type": "stream",
     "text": [
      "Accuracy of ridge_regression on the local test set : 0.8163\n",
      "F1-score of ridge_regression on the local test set : 0.7193\n"
     ]
    }
   ],
   "source": [
    "acc_local_test, f1_local_test, w_best, best_degree, best_lambda = run_experiment(y, x_cleaned_copy, 'ridge_regression', 1, 0.8, cols_angle, max_degree=3)"
   ]
  },
  {
   "cell_type": "code",
   "execution_count": 27,
   "id": "7b91d773",
   "metadata": {},
   "outputs": [
    {
     "data": {
      "text/plain": [
       "(3, 5.179474679231202e-05)"
      ]
     },
     "execution_count": 27,
     "metadata": {},
     "output_type": "execute_result"
    }
   ],
   "source": [
    "best_degree, best_lambda"
   ]
  },
  {
   "cell_type": "code",
   "execution_count": 28,
   "id": "46778928",
   "metadata": {},
   "outputs": [
    {
     "data": {
      "text/plain": [
       "(326,)"
      ]
     },
     "execution_count": 28,
     "metadata": {},
     "output_type": "execute_result"
    }
   ],
   "source": [
    "w_best.shape"
   ]
  },
  {
   "cell_type": "code",
   "execution_count": 36,
   "id": "3801f9d3-41c8-4d40-b85e-d549a424b058",
   "metadata": {},
   "outputs": [],
   "source": [
    "x_cleaned_std, means, stds = standardise(x_cleaned_copy.copy())"
   ]
  },
  {
   "cell_type": "code",
   "execution_count": 37,
   "id": "9d9ded8b-0f68-42bc-b3b6-4b1a79b5079e",
   "metadata": {},
   "outputs": [
    {
     "name": "stdout",
     "output_type": "stream",
     "text": [
      "Number of values outside [-pi;pi[ (col 11): 19\n",
      "Number of values outside [-pi;pi[ (col 14): 17\n",
      "Number of values outside [-pi;pi[ (col 16): 22\n",
      "Number of values outside [-pi;pi[ (col 21): 9\n"
     ]
    }
   ],
   "source": [
    "# load and pre-process test data\n",
    "test_path = 'data/test.csv'\n",
    "x_te_cleaned, ids_test, y_test = process_test_set(test_path, col_removed_training, default_values_training, above_lim_training, below_lim_training, means, stds, cols_angle, best_degree)"
   ]
  },
  {
   "cell_type": "code",
   "execution_count": 38,
   "id": "7fcbf21b",
   "metadata": {},
   "outputs": [],
   "source": [
    "# Predict the lab and output the result in the CSV files\n",
    "#y_test_pred = predict_labels_logistic_regression(w_best, x_te_cleaned)\n",
    "\n",
    "y_test_pred = predict_labels(w_best, x_te_cleaned)\n",
    "create_csv_submission(ids_test, y_test_pred, 'log.csv')"
   ]
  },
  {
   "cell_type": "code",
   "execution_count": 17,
   "id": "338ca900-f220-46cb-9729-4c3234b0cb0e",
   "metadata": {},
   "outputs": [
    {
     "name": "stdout",
     "output_type": "stream",
     "text": [
      "==> Loading and preprocessing training data...\n",
      "\n",
      "Number of values outside [-pi;pi[ (col 11): 9\n",
      "Number of values outside [-pi;pi[ (col 14): 11\n",
      "Number of values outside [-pi;pi[ (col 16): 9\n",
      "Number of values outside [-pi;pi[ (col 21): 3\n",
      "\n",
      "==> Training model...\n",
      "\n",
      "==> Loading and preprocessing test data...\n",
      "\n",
      "Number of values outside [-pi;pi[ (col 11): 19\n",
      "Number of values outside [-pi;pi[ (col 14): 17\n",
      "Number of values outside [-pi;pi[ (col 16): 22\n",
      "Number of values outside [-pi;pi[ (col 21): 9\n",
      "(464,)\n",
      "\n",
      "==> Predicting labels for the test set...\n",
      "\n",
      "==> Creating submission file...\n",
      "\n",
      "==> Submission files saved.\n"
     ]
    }
   ],
   "source": [
    "from run import main\n",
    "main()"
   ]
  },
  {
   "cell_type": "code",
   "execution_count": null,
   "id": "18dc0ec9",
   "metadata": {},
   "outputs": [],
   "source": []
  }
 ],
 "metadata": {
  "kernelspec": {
   "display_name": "Python 3 (ipykernel)",
   "language": "python",
   "name": "python3"
  },
  "language_info": {
   "codemirror_mode": {
    "name": "ipython",
    "version": 3
   },
   "file_extension": ".py",
   "mimetype": "text/x-python",
   "name": "python",
   "nbconvert_exporter": "python",
   "pygments_lexer": "ipython3",
   "version": "3.8.11"
  }
 },
 "nbformat": 4,
 "nbformat_minor": 5
}