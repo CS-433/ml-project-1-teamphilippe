{
 "cells": [
  {
   "cell_type": "code",
   "execution_count": 35,
   "id": "ecf79ffe",
   "metadata": {},
   "outputs": [
    {
     "name": "stdout",
     "output_type": "stream",
     "text": [
      "The autoreload extension is already loaded. To reload it, use:\n",
      "  %reload_ext autoreload\n"
     ]
    }
   ],
   "source": [
    "%load_ext autoreload\n",
    "%autoreload 2\n",
    "from proj1_helpers import *\n",
    "from implementations import * "
   ]
  },
  {
   "cell_type": "code",
   "execution_count": 27,
   "id": "794ba5c2",
   "metadata": {},
   "outputs": [],
   "source": [
    "data_path = \"data/train.csv\""
   ]
  },
  {
   "cell_type": "code",
   "execution_count": 28,
   "id": "4ea212cf",
   "metadata": {},
   "outputs": [],
   "source": [
    "y, x, ids = load_csv_data(data_path, sub_sample=False)"
   ]
  },
  {
   "cell_type": "code",
   "execution_count": 29,
   "id": "00a18452",
   "metadata": {},
   "outputs": [],
   "source": [
    "x_tr, x_te, y_tr, y_te = split_data(x, y, ratio=0.8, seed=1)"
   ]
  },
  {
   "cell_type": "code",
   "execution_count": 30,
   "id": "f41f22ad",
   "metadata": {},
   "outputs": [],
   "source": [
    "x_tr, mean_x_tr, std_x_tr = standardize(x_tr)\n",
    "x_te, mean_x_te, std_x_te = standardize(x_te)"
   ]
  },
  {
   "cell_type": "code",
   "execution_count": 31,
   "id": "fec6dd2d",
   "metadata": {},
   "outputs": [],
   "source": [
    "#SGD parameters\n",
    "initial_w = np.zeros((x.shape[1]))\n",
    "max_iters = 400\n",
    "gamma = 0.05\n",
    "lambda_ = 0.7"
   ]
  },
  {
   "cell_type": "code",
   "execution_count": 32,
   "id": "66488e35",
   "metadata": {},
   "outputs": [
    {
     "name": "stdout",
     "output_type": "stream",
     "text": [
      "CPU times: user 16min 47s, sys: 57.6 s, total: 17min 45s\n",
      "Wall time: 4min 26s\n"
     ]
    }
   ],
   "source": [
    "%%time\n",
    "w_cv, loss_cv = perform_cross_validation(y_tr, x_tr,\n",
    "                                         compute_reg_logistic_regression_loss,\n",
    "                                         compute_reg_logistic_regression_gradient,\n",
    "                                         max_iters=100)"
   ]
  },
  {
   "cell_type": "code",
   "execution_count": 37,
   "id": "5438c8f0",
   "metadata": {},
   "outputs": [],
   "source": [
    "y_pred = predict_labels_logistic_regression(w_cv, x_te)"
   ]
  },
  {
   "cell_type": "code",
   "execution_count": 38,
   "id": "a3d9ae31",
   "metadata": {},
   "outputs": [
    {
     "name": "stdout",
     "output_type": "stream",
     "text": [
      "accuracy on test set : 0.6554\n"
     ]
    }
   ],
   "source": [
    "accuracy = np.mean(np.equal(y_pred, y_te))\n",
    "\n",
    "print(f'accuracy on test set : {accuracy}')"
   ]
  },
  {
   "cell_type": "code",
   "execution_count": 40,
   "id": "d1467251",
   "metadata": {},
   "outputs": [],
   "source": [
    "test_path = 'data/test.csv'\n",
    "\n",
    "y_test, x_test, ids_test = load_csv_data(test_path)\n",
    "x_test, mean_x_test, std_x_test = standardize(x_test)\n",
    "y_test_pred = predict_labels_logistic_regression(w_cv, x_test)\n",
    "create_csv_submission(ids_test, y_test_pred, 'reg_logistic.csv')"
   ]
  },
  {
   "cell_type": "code",
   "execution_count": null,
   "id": "2ca0be53",
   "metadata": {},
   "outputs": [],
   "source": []
  }
 ],
 "metadata": {
  "kernelspec": {
   "display_name": "Python 3 (ipykernel)",
   "language": "python",
   "name": "python3"
  },
  "language_info": {
   "codemirror_mode": {
    "name": "ipython",
    "version": 3
   },
   "file_extension": ".py",
   "mimetype": "text/x-python",
   "name": "python",
   "nbconvert_exporter": "python",
   "pygments_lexer": "ipython3",
   "version": "3.8.11"
  }
 },
 "nbformat": 4,
 "nbformat_minor": 5
}
