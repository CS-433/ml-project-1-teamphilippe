{
 "cells": [
  {
   "cell_type": "code",
   "execution_count": 5,
   "id": "ecf79ffe",
   "metadata": {},
   "outputs": [
    {
     "name": "stdout",
     "output_type": "stream",
     "text": [
      "The autoreload extension is already loaded. To reload it, use:\n",
      "  %reload_ext autoreload\n"
     ]
    }
   ],
   "source": [
    "%load_ext autoreload\n",
    "%autoreload 2\n",
    "from proj1_helpers import *\n",
    "from implementations import * \n",
    "from cross_validation import *"
   ]
  },
  {
   "cell_type": "code",
   "execution_count": 2,
   "id": "794ba5c2",
   "metadata": {},
   "outputs": [],
   "source": [
    "data_path = \"data/train.csv\""
   ]
  },
  {
   "cell_type": "code",
   "execution_count": 3,
   "id": "4ea212cf",
   "metadata": {},
   "outputs": [],
   "source": [
    "y, x, ids = load_csv_data(data_path, sub_sample=False)"
   ]
  },
  {
   "cell_type": "code",
   "execution_count": 15,
   "id": "cf3fed61",
   "metadata": {},
   "outputs": [
    {
     "name": "stdout",
     "output_type": "stream",
     "text": [
      "Accuracy of ridge_regression on the local test set : 0.7338\n"
     ]
    }
   ],
   "source": [
    "acc_local_test, w_best = run_experiment(y, x, 'ridge_regression', 1, 0.8)"
   ]
  },
  {
   "cell_type": "code",
   "execution_count": 16,
   "id": "d1467251",
   "metadata": {},
   "outputs": [],
   "source": [
    "test_path = 'data/test.csv'\n",
    "\n",
    "y_test, x_test, ids_test = load_csv_data(test_path)\n",
    "x_test, mean_x_test, std_x_test = standardize(x_test)\n",
    "#y_test_pred = predict_labels_logistic_regression(w_cv, x_test)\n",
    "y_test_pred = predict_labels(w_best, x_test)\n",
    "create_csv_submission(ids_test, y_test_pred, 'ridge.csv')"
   ]
  },
  {
   "cell_type": "code",
   "execution_count": null,
   "id": "a3886aa1",
   "metadata": {},
   "outputs": [],
   "source": []
  }
 ],
 "metadata": {
  "kernelspec": {
   "display_name": "Python 3 (ipykernel)",
   "language": "python",
   "name": "python3"
  },
  "language_info": {
   "codemirror_mode": {
    "name": "ipython",
    "version": 3
   },
   "file_extension": ".py",
   "mimetype": "text/x-python",
   "name": "python",
   "nbconvert_exporter": "python",
   "pygments_lexer": "ipython3",
   "version": "3.8.11"
  }
 },
 "nbformat": 4,
 "nbformat_minor": 5
}
